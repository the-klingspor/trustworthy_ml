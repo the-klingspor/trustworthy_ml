{
 "cells": [
  {
   "cell_type": "markdown",
   "metadata": {
    "id": "QFWnwGiwu-EP"
   },
   "source": [
    "# **Trustworthy Machine Learning - XAI homework**\n",
    "\n",
    "\n",
    "---\n",
    "Group number 5\n",
    "\n",
    "Student name #1 Balint Mucsanyi (6013671)\n",
    "\n",
    "Student name #2 ***Insert Here***\n",
    "\n",
    "Student name #3 ***Insert Here***\n",
    "\n",
    "**The deadline for this homework is on 12/12/2022 at 23:59.**\n",
    "\n",
    "**Submission**: Please download your colab notebook as .ipynb and send it to [our email](mailto:stai.there@gmail.com). Make sure that you indicate your group number and names.\n",
    "\n",
    "---\n",
    "**Structure**: This homework is structured in 3 topics. Each topic corresponds to the content of a separate lecture. We therefore recommend to only start working on each topic after attending the corresponding lecture. The recommended starting dates are indicated in the section headers, but feel free to explore by yourself, too.\n",
    "\n",
    "You know the drill, save a copy of this notebook in your drive and work on it there!\n",
    "\n",
    "For this homework, you also require some external python files and model checkpoints that are available [here](https://drive.google.com/drive/folders/187hr-TaeBCO6-t5ByiE5VSIl4XaLKgqw?usp=sharing). Make sure to download them to your drive and update the paths for import according throughout the notebook. **Do not use any other external libraries than the ones already defined in the notebook or consult the TML lecture staff first about usage.**\n",
    "\n",
    "If you have any questions about the homework, feel free to drop us a message on Discord or come to the tutorials on Friday afternoon at 16:00. The lead tutor for this homework is [Elisa](mailto:elisa.nguyen@live.de). "
   ]
  },
  {
   "cell_type": "markdown",
   "metadata": {
    "id": "FmGAkVwBwCDu"
   },
   "source": [
    "## **1. Introduction to explainability** (10+10+10=30 pts)\n",
    "Recommended start: 18/11/2022"
   ]
  },
  {
   "cell_type": "markdown",
   "metadata": {
    "id": "fXn5gZIWwd7X"
   },
   "source": [
    "#### 1.1 XAI taxonomy (10 pts)\n",
    "Explain the taxonomies of explainable AI methods. What does each category mean? Comment on the compatibility of the taxonomies. Give examples.\n",
    "\n",
    "<img alt=\"XAI taxonomy\" src=\"https://d3i71xaburhd42.cloudfront.net/21dff47a4142445f83016da0819ffe6dd2947f66/14-Figure7-1.png\" width=600>\n",
    "\n",
    "<font size=1>(Image source: Adadi and Berrada (2018), Scoop = Scope)</font>\n",
    "\n",
    "<img alt=\"XAI problem taxonomy\" src=\"https://www.researchgate.net/profile/Carla-Vieira-16/publication/341643347/figure/fig2/AS:895404656848907@1590492514543/Open-the-black-box-problems-taxonomy-Guidotti-et-al-2018.ppm\" width=600>\n",
    "\n",
    "<font size=1>(Image source: Guidotti et al. (2018))</font>"
   ]
  },
  {
   "cell_type": "markdown",
   "metadata": {
    "id": "FMlm-iCvw9bA"
   },
   "source": [
    "Let us start with the first plot. The first important distinction has to be made between **intrinsic** and **post-hoc** explainability methods.\n",
    "\n",
    "**Intrinsically interpretable models** are ones that have an easily interpretable structure by construction. This necessarily constrains the complexity of the model in question. In the lecture we discussed two intrinsically explainable models: **sparse linear models** that consider human-interpretable features and **decision trees** with human-interpretable decision criteria. An example for such a sparse linear model could be one that takes as input medical attributes of a person (patient's name, height, age, blood sugar level, cholesterol level, blood pressure, etc.) that are easy-to-understand concepts for humans, and uses only a couple of them (e.g. only the age, blood sugar level and blood pressure) to predict the patient's risk of a certain disease. To enforce sparsity, once can use the $L^0$ norm of the weights: $\\Vert w \\Vert_0 = |\\{i : w_i \\ne 0\\}|$ as a penalty, but optimizing this is an NP-Hard problem. Thus, people use convex relaxations of this penalty term, e.g. the $L^1$ norm of the weights, which corresponds to Lasso regression. An example for a human-interpretable decision tree would be a spatial decision tree with a moderate depth that also considers the previously introduced medical attributes of a patient at each level of the tree. To also mention a method that was not mentioned in the lecture, **$L^1$-regularized logistic regression** can also be deemed intrinsically explainable, where even though the contribution of each feature of the input is not linear to the final score (because of the non-linearity), the individual features' contributions can still be clearly examined by looking at the corresponding weights. Intrinsic explainability methods are by definition **model-specific**, as they correspond to individual model definitions.\n",
    "\n",
    "We would also like to note that the **magnitude of weights** only corresponds to **feature importance** in linear methods when the features of the input are **uncorrelated** and are **on the same scale**. In decision trees we can just consider the **Gini importance**, which is a byproduct of the tree fitting process.\n",
    "\n",
    "**Post-hoc explainability methods** are usually model-agnostic techniques (i.e., they can be applied to a wide variety of models, e.g. different NN architectures). In the lecture we learned that post-hoc explanations also linearize the models being explained, thereby also creating intrinsically explainable models, but either in only a locally faithful fashion (e.g. LIME by fitting a sparse linear model locally but performing global perturbations) or in a much more abstract setting (e.g. SHAP by linearizing a prediction in terms of the individual contribution of each feature), depending on the method being used.\n",
    "\n",
    "We can also categorize explainability methods by considering their scope. **Global explainability** is a very challenging goal to achieve for complex models: here the goal is to explain how the model makes predictions in general, for any input, in a human-understandable way. Thus, post-hoc methods are less compatible with the goal of global explainability, and even more so with global *interpretability* (where no further explanation is needed). However, it is easily achieved for intrinsically interpretable models by definition. For example, linear models behave in the same way locally and globally. \n",
    "\n",
    "**Local explainability methods** tackle a much less ambitious, but nevertheless very important problem, where the aim is to explain the model's decisions for a particular test input. In Lecture 6 we were mainly concerned with such methods (attribution to **test features**), including input gradients for local perturbations, SmoothGrad for more global perturbations, integrated gradients for even more global perturbations, and finally the triad of Zintgraf et al., LIME and SHAP for global perturbations. We would like to emphasize the distinction between local/global *perturbations* and *methods*: the aforementioned methods were all local, but some employed global perturbations around a particular test input. The CAM method also falls into the local interpretability category, where the network in question is partially linearized (or is already partially linear).\n",
    "\n",
    "We would like to highlight the position of the TCAV method on this spectrum: we consider it to be a *hybrid* between local and global explainability methods: the score $S_{C, k, l}(x)$ corresponds to a particular test input: it measures how much concept $C$ contributes to the prediction of class $k$ for the sample in question, but the TCAV score $\\text{TCAV}_{Q_{C, k, l}}$ measures the contribution of the concept across the entire dataset, thereby taking a step towards global (linear) explanations of a part of the network in question.\n",
    "\n",
    "The second plot considers the explainability of black box models. This corresponds to **post-hoc explanations** that are often model-agnostic. Regarding explanations, we can consider three variants. **Black box model explanations** correspond to global explainability methods that consider a baseline model and a corresponding dataset, and aim to globally mimic the baseline model by a human-interpretable model (according to the definition in Guidotti et al. (2018)). **Black box outcome explanations**, on the other hand, correspond to local explainability methods whose aim is to construct a locally faithful, human-interpretable predictor that mimics the baseline model only around a particular test input. **Black box inspection algorithms** consider an arbitrarily complex baseline model and a dataset, and return a visual representation of the baseline model's behavior.\n",
    "\n",
    "The **transparent box design** problem is analogous to the design of **intrinsically interpretable models**, where the goal is to construct human-interpretable models and corresponding local or global explanators (that are very simple, as the model itself is simple)."
   ]
  },
  {
   "cell_type": "markdown",
   "metadata": {
    "id": "jKevpmTdQqOl"
   },
   "source": [
    "### 1.2 \"Good\" explanations (10 pts)\n",
    "\n",
    "State 3 aspects of good explanations and elaborate. Why are they important? How could they be evaluated (conceptual outline is sufficient)?"
   ]
  },
  {
   "cell_type": "markdown",
   "metadata": {
    "id": "ciErKuT7wyt-"
   },
   "source": [
    "As discussed in the lecture and outlined in Miller (2017), human-to-human explanations are ...\n",
    "* ... contrastive: people seek explanations in response to particular foils set up by them. As an example, when an ML grad student asks their supervisor \"Why do we use random forests for this task?\", they usually have some other methods in mind (e.g. some fancy NNs) that they are contrasting with the subject of their question. Note how the foil usually appears implicitly, but is very intrinsic to the thought process of humans. This is a crucial concept because without a foil the question can become very ambiguous and a lot more subjective. Having a foil to compare to makes explanations more well-defined and often simpler. As such, desired XAI explanations should also be contrastive. The \"contrastiveness\" of an explanation can be evaluated by either qualitatively or quantitatively (according to some measure) considering how clearly the *difference* between the foil and the main case is explained.\n",
    "* ... selective: when someone asks for an explanation for some event, they are usually not asking for an entire list of possible causes, rather a few but important reasons that are relevant to the discussion at hand. For example, when a boss asks from the waiter why the floor is wet in a restaurant, they are obviously not interested in the physical process of the floor becoming wet at the molecular level, rather they want a cause that is much more closely related to human actions. This is also a crucial ingredient of a good explanation because by enumerating too many (otherwise corect) causes for an event, the explainer is drowning out the significance of the causes relevant to the explainee. Thus, a good explanation is also **context-dependent**. We can evaluate how selective an explanation is by considering how *relevant* the provided causes were to the situation at hand and punishing explanations with too many causes. This criterion is closely related to Occam's razor: one should prefer fewer causes between two equally relevant lists of causes.\n",
    "* ... social and interactive: an explanation is usually not transferred via one-way communication. People usually want further clarifications after an initial explanation, which also greatly helps the explainer by assessing the knowledge and interests of the explainee. This way, the explainer can adapt their method or can touch on other possible causes that might be of more interest. Partly because of this feedback loop, humans do not explain a concept in the same way to everyone, rather we change our method of explanation based on feedback and who we are talking to. The explainer's cognitive biases and model / belief of social expectations also greatly influences how they approach an initial explanation, even before the feedback is obtained. For humans, evaluating how engaging and interactive the explainer was in a certain situation is remarkably easy. We internally assess this by considering how often the explainer asked us whether we are still following their explanations, or how well they adapted to our personalized needs during the feedback loop.\n",
    "\n",
    "As seen in the lecture, the selectivity and contrastiveness of XAI explanations are significantly easier to achieve than the social aspect. This is because this aspect requires interactivity between humans and computers, which is significantly more underdeveloped than isolated computer methods.  In XAI, there are very few works on interactive explanations as of now, as popular methods typically generate human-agnostic explanations that should be helpful for most people. However, based on human interactions, this should also be an aspect to consider in future XAI methods. We would also like to note that even if interactivity was widely present in current XAI methods, *evaluating* this aspect would be much harder and more subjective than, e.g., evaluating how selective a particular explanation was."
   ]
  },
  {
   "cell_type": "markdown",
   "metadata": {
    "id": "el4adm-tQ6DM"
   },
   "source": [
    "### 1.3 Explanation evaluation (10 pts)\n",
    "\n",
    "Write a Python script for evaluating the correctness of a feature attribution explanation like saliency maps with a remove-and-classify approach. Since removing a feature at a time takes a long time, we instead remove 5% of the features in each removal step.\n",
    "\n",
    "We provide a pre-trained LeNet model on Fashion-MNIST (~89% test set accuracy) with some dummy feature attribution explanations below. Please use these to test your remove-and-classify function."
   ]
  },
  {
   "cell_type": "code",
   "execution_count": 2,
   "metadata": {
    "colab": {
     "base_uri": "https://localhost:8080/"
    },
    "executionInfo": {
     "elapsed": 26806,
     "status": "ok",
     "timestamp": 1670921112134,
     "user": {
      "displayName": "Bálint Mucsányi",
      "userId": "14329416034316418738"
     },
     "user_tz": -60
    },
    "id": "Xv2SIeN_YkJA",
    "outputId": "5f148798-814b-43c0-f837-e326ecf7cc42"
   },
   "outputs": [],
   "source": [
    "# Mounting the drive to access the pre-trained model weights\n",
    "# from google.colab import drive\n",
    "# drive.mount('/content/drive')"
   ]
  },
  {
   "cell_type": "code",
   "execution_count": 1,
   "metadata": {
    "id": "BJpzAkCoxmzS"
   },
   "outputs": [],
   "source": [
    "import os\n",
    "import sys\n",
    "from typing import Callable, Tuple\n",
    "\n",
    "import numpy as np\n",
    "import torch\n",
    "import torch.nn as nn\n",
    "from torch.optim import Adam\n",
    "import random\n",
    "from torchvision import transforms\n",
    "from torchvision import datasets\n",
    "from torch.utils.data import DataLoader, TensorDataset\n",
    "from sklearn.metrics import auc\n",
    "from tqdm import tqdm\n",
    "import matplotlib.pyplot as plt\n",
    "from ipywidgets import interact\n",
    "import ipywidgets as widgets\n",
    "\n",
    "# BASE_PATH = (\n",
    "#     \"/content/drive/MyDrive/University of Tübingen - Machine Learning MSc/3rd Semester/\"\n",
    "#     \"Trustworthy Machine Learning/Exercises/2_xai_utils\"\n",
    "# )\n",
    "BASE_PATH = \"\"\n",
    "sys.path.insert(0, BASE_PATH)\n",
    "from lenet import LeNet\n",
    "from xai_utils import (\n",
    "    model_accuracy,\n",
    "    centered_gaussian,\n",
    "    load_cub_test,\n",
    "    show_sample,\n",
    "    show_attribution_overlay\n",
    ")\n",
    "from resnet50 import resnet50\n",
    "\n",
    "\n",
    "def apply_random_seed(random_seed: int) -> None:\n",
    "    \"\"\"Sets seed to ``random_seed`` in random, numpy and torch.\"\"\"\n",
    "    random.seed(random_seed)\n",
    "    np.random.seed(random_seed)\n",
    "    torch.manual_seed(random_seed)\n",
    "    torch.cuda.manual_seed(random_seed)\n",
    "    torch.cuda.manual_seed_all(random_seed)\n",
    "    torch.backends.cudnn.benchmark = False\n",
    "    torch.backends.cudnn.deterministic = True\n",
    "\n",
    "\n",
    "apply_random_seed(2022)  # Used for reproducibility on GPU\n",
    "# Set up GPU use in case it is available\n",
    "device = torch.device('cuda') if torch.cuda.is_available() else torch.device('cpu')"
   ]
  },
  {
   "cell_type": "code",
   "execution_count": 2,
   "metadata": {
    "colab": {
     "base_uri": "https://localhost:8080/"
    },
    "executionInfo": {
     "elapsed": 5800,
     "status": "ok",
     "timestamp": 1670775867113,
     "user": {
      "displayName": "Bálint Mucsányi",
      "userId": "14329416034316418738"
     },
     "user_tz": -60
    },
    "id": "blN1qyk-Yfq8",
    "outputId": "b65e8081-a0b8-4ab2-9bbc-611d0b193b6a"
   },
   "outputs": [
    {
     "data": {
      "text/plain": [
       "LeNet(\n",
       "  (conv1): Conv2d(1, 128, kernel_size=(5, 5), stride=(1, 1), padding=(2, 2))\n",
       "  (pool1): AvgPool2d(kernel_size=2, stride=2, padding=0)\n",
       "  (conv2): Conv2d(128, 128, kernel_size=(5, 5), stride=(1, 1), padding=(2, 2))\n",
       "  (pool2): AvgPool2d(kernel_size=2, stride=2, padding=0)\n",
       "  (linear1): Linear(in_features=6272, out_features=100, bias=True)\n",
       "  (linear2): Linear(in_features=100, out_features=10, bias=True)\n",
       ")"
      ]
     },
     "execution_count": 2,
     "metadata": {},
     "output_type": "execute_result"
    }
   ],
   "source": [
    "# Here we load the pre-trained model\n",
    "lenet = torch.load(os.path.join(BASE_PATH, \"lenet_fashionmnist.pckl\"), map_location=device)\n",
    "lenet.eval()"
   ]
  },
  {
   "cell_type": "code",
   "execution_count": 3,
   "metadata": {
    "colab": {
     "base_uri": "https://localhost:8080/",
     "height": 423,
     "referenced_widgets": [
      "aa2a96e6e6534c21b07ae70e1a2d76e1",
      "d012ca0c663a4a5cb8ae97ec91cfe00d",
      "89d2e7212d274a8c895f3d53e284e912",
      "033dbebe074a4353a8811a53079489cd",
      "2615f007fa1143618b645479588fd74a",
      "a69cfb0c7b6b43d78c19c38395d2b368",
      "f65333474c574f399cdaab796d9efd07",
      "ed8d2532dd6543a4abc4f4c01a6263d4",
      "61939957aedf4c05af0c8f98c59030cf",
      "bc008b8d7cb441fc85e0b81dbe55a283",
      "6524aecfa6654fa5b85d5a5b7da65382",
      "45a1527c54034653b7d9d124e59255cf",
      "7f70c048050c49928cbf2aebcdbb5f1b",
      "1c8c78537d3444b8a134590f12e6cb80",
      "6a58b3fa2c3a4e9cb265bd45bff1518e",
      "f8f6c7bdfc30444d8ff8d805a5c255a8",
      "0493aa849ad74ec484d321800a27e6b4",
      "91597be3e60f48d297e8ce18e3d4a017",
      "2ecff11b4c2947789258af1162414521",
      "2705a7697df44172a090a03d38076fc9",
      "d201940c06c346e58272225646b1a5f4",
      "894bb56860e14d589a72bf503652f75c",
      "4b5aa3f9753c4fbbb5323cce09096407",
      "8c008c3e66674b3699ad9200ad33329d",
      "76b4e55d26ff41d49e7b0a2768b98748",
      "ff71a7d8ae444cb5b2ae56b56e600527",
      "77617d300a8f47da9275b29edc3f6973",
      "dbab93b74b954cef8c20e0bc4e27fef8",
      "aa02c107d9144af5827b635a6c0e59b5",
      "c06f72e972f349b48d84b335467091d6",
      "b0cc35221cf94946972f5d68dab224be",
      "1b7af3da37c845e881d5172ec2891e2d",
      "354b2212dbb14e74b25ae7f5dc637115",
      "bcfdf607f73b41288940059f0a6ab63e",
      "3105d2b89bf946fe90cfd34c29046295",
      "c6a74e12030a4c80bb565e078a019e5b",
      "1b7d18d07bab4aabb947a2b619a5758b",
      "d6016741808a45b2af04ec657226499a",
      "4c63c2d3781748929437bc02035c0380",
      "5c5e4bbe94d841ac9e537da3f55e508d",
      "855b1e9d49a64ed8a71a04be7a1710a2",
      "320a2c6070eb4d9fac14321801ecb4ff",
      "4840de2298bd4554ac3325822bb2bae9",
      "839a6ee863ef4dae83212d9ddc6f5cd1"
     ]
    },
    "executionInfo": {
     "elapsed": 9154,
     "status": "ok",
     "timestamp": 1670775876232,
     "user": {
      "displayName": "Bálint Mucsányi",
      "userId": "14329416034316418738"
     },
     "user_tz": -60
    },
    "id": "e0XeSvAEwWRB",
    "outputId": "43042688-e59f-4850-ee41-59ef8d136f92"
   },
   "outputs": [],
   "source": [
    "# Loading the dataset. Since the model is already trained, we only require the test set\n",
    "transform = transforms.Compose([\n",
    "    transforms.ToTensor(),\n",
    "    transforms.Lambda(lambda x: x.squeeze())\n",
    "])\n",
    "\n",
    "fmnist_test = datasets.FashionMNIST(\n",
    "    root='./data_FashionMNIST',\n",
    "    train=False,\n",
    "    download=True,\n",
    "    transform=transform\n",
    ")"
   ]
  },
  {
   "cell_type": "code",
   "execution_count": 4,
   "metadata": {
    "colab": {
     "base_uri": "https://localhost:8080/"
    },
    "executionInfo": {
     "elapsed": 6769,
     "status": "ok",
     "timestamp": 1670775882992,
     "user": {
      "displayName": "Bálint Mucsányi",
      "userId": "14329416034316418738"
     },
     "user_tz": -60
    },
    "id": "jV3a4WEXn0_e",
    "outputId": "61e952d8-584b-44af-dadf-b2d955e29a74"
   },
   "outputs": [
    {
     "name": "stdout",
     "output_type": "stream",
     "text": [
      "Accuracy on the test set: 0.900\n"
     ]
    }
   ],
   "source": [
    "# We added a batch_size parameter to model_accuracy to make it faster\n",
    "fmnist_accuracy = model_accuracy(lenet, fmnist_test)\n",
    "\n",
    "assert fmnist_accuracy == 0.9\n",
    "print(f'Accuracy on the test set: {fmnist_accuracy:.3f}')"
   ]
  },
  {
   "cell_type": "markdown",
   "metadata": {
    "id": "LIY5PtGExM15"
   },
   "source": [
    "**Your turn! Fill in the function to evaluate how well the dummy Gaussian maps explain the model predictions.**"
   ]
  },
  {
   "cell_type": "code",
   "execution_count": 13,
   "metadata": {
    "id": "ma6rcaHfkiR_"
   },
   "outputs": [],
   "source": [
    "def create_auxiliary_tensors(\n",
    "    samples: torch.Tensor,\n",
    "    explanations: torch.Tensor,\n",
    "    has_color: bool,\n",
    "    k: int\n",
    ") -> Tuple[torch.Tensor, torch.Tensor, torch.Tensor]:\n",
    "    \"\"\"Creates auxiliary tensors used in ``remove_and_classify``.\n",
    "    \n",
    "    Args:\n",
    "        samples: Dataset we want to perturb in ``remove_and_classify``.\n",
    "        explanations: Pixel-level attributions corresponding to ``samples``.\n",
    "        has_color: Indicates whether the elements of ``samples`` have a\n",
    "            color channel or not.\n",
    "\n",
    "    Returns:\n",
    "        A triplet of flattened samples (with color channel preserved if elements have one),\n",
    "        the indices that correspond to a descending sort of the per-sample elements of\n",
    "        ``explanations``, and an increasing integer tensor used for indexing.\n",
    "\n",
    "    \"\"\"\n",
    "    start_dim = 2 if has_color else 1\n",
    "    # We create a flattened view of ``samples``, whose indices are easy to manipulate\n",
    "    samples_flat = samples.flatten(start_dim=start_dim, end_dim=start_dim + 1)\n",
    "\n",
    "    batch_size = samples_flat.shape[0]\n",
    "    feature_size = samples_flat.shape[start_dim]\n",
    "    indices = explanations.flatten(start_dim=1).argsort(descending=True)\n",
    "    arange = torch.arange(batch_size).unsqueeze(1).expand(-1, k)\n",
    "\n",
    "    return samples_flat, indices, arange\n",
    "\n",
    "\n",
    "def remove_and_classify(\n",
    "    model: torch.nn.Module,\n",
    "    dataset: torch.utils.data.Dataset,\n",
    "    explanations: torch.Tensor,\n",
    "    k: int,\n",
    "    fill: str = 'zero',\n",
    "    batch_size: int = 8,\n",
    "    mean: torch.Tensor = torch.zeros(1),\n",
    "    cov: torch.Tensor = torch.eye(1),\n",
    "):\n",
    "    \"\"\"Main remove-and-classify function.\n",
    "    \n",
    "    Iteratively removes top k features from all instances in the dataset and measures\n",
    "    model performance.\n",
    "\n",
    "    Args:\n",
    "        model: Model that ``explanations`` corresponds to.\n",
    "        dataset: Dataset of shape either (batch_size, color_channel, height, width)\n",
    "            or (batch_size, height, width) whose samples are iteratively perturbed.\n",
    "        explanations: Pixel-level attributions of shape (batchh_size, height, width)\n",
    "           corresponding to ``dataset``.\n",
    "        k: Number of features to remove in one interation\n",
    "        fill: defines how to fill pixels that should be removed\n",
    "        batch_size: Batch size for ``model_accuracy``.\n",
    "    \n",
    "    Returns:\n",
    "        A list of model accuracies evaluated on the iteratively perturbed dataset.\n",
    "\n",
    "    \"\"\"\n",
    "    # Input check\n",
    "    assert len(dataset) == len(explanations) \n",
    "    assert dataset.data.shape[-2:] == explanations[0].shape\n",
    "\n",
    "    has_color = len(dataset.data.shape) == 4\n",
    "    performances = []\n",
    "    #### >>>> PUT YOUR SOLUTION HERE <<<<\n",
    "    samples = dataset.data.clone()\n",
    "\n",
    "    if not has_color:\n",
    "        samples = samples.to(dtype=torch.float32) / 255.\n",
    "    \n",
    "    samples_flat, indices, arange = create_auxiliary_tensors(\n",
    "        samples=samples,\n",
    "        explanations=explanations,\n",
    "        has_color=has_color,\n",
    "        k=k\n",
    "    )\n",
    "    num_pixels = indices.shape[1]\n",
    "    dist = torch.distributions.multivariate_normal.MultivariateNormal(mean,cov)\n",
    "    for i in tqdm(range(num_pixels // k + 1)):\n",
    "        indices_i = indices[:, i * k : (i + 1) * k]\n",
    "        arange_i = arange[:, :indices_i.shape[1]]\n",
    "        if has_color:\n",
    "            if fill == 'zero':\n",
    "                samples_flat[arange_i, :, indices_i] = 0\n",
    "            if fill == 'mean':\n",
    "                samples_flat[arange_i, :, indices_i] = mean\n",
    "            if fill == 'noise':\n",
    "                samples_flat[arange_i, :, indices_i] = dist.sample(arange_i.shape)\n",
    "        else:\n",
    "            if fill == 'zero':\n",
    "                samples_flat[arange_i, indices_i] = 0\n",
    "            if fill == 'mean':\n",
    "                samples_flat[arange_i, indices_i] = mean[0]\n",
    "            if fill == 'noise':\n",
    "                samples_flat[arange_i, indices_i] = dist.sample(arange_i.shape).squeeze()\n",
    "\n",
    "        perturbed_dataset = TensorDataset(samples, dataset.targets)\n",
    "\n",
    "        performances.append(\n",
    "            model_accuracy(model, perturbed_dataset, batch_size=batch_size)\n",
    "        )\n",
    "    #### >>>> END OF YOUR SOLUTION <<<<\n",
    "    \n",
    "    return performances"
   ]
  },
  {
   "cell_type": "code",
   "execution_count": 6,
   "metadata": {},
   "outputs": [
    {
     "name": "stdout",
     "output_type": "stream",
     "text": [
      "Fashion Mnist mean:  tensor([0.2868])\n",
      "Fashion Mnist Covariance:  tensor([[0.3524]])\n"
     ]
    }
   ],
   "source": [
    "# calculting the mean and std of the fashion mnist data\n",
    "from torch.utils.data import DataLoader\n",
    "dataloader = DataLoader(fmnist_test,batch_size=10000)\n",
    "fashion_mean = next(iter(dataloader))[0].mean()[None]\n",
    "fashion_cov = torch.diag(next(iter(dataloader))[0].std()[None])\n",
    "print(\"Fashion Mnist mean: \",fashion_mean)\n",
    "print(\"Fashion Mnist Covariance: \",fashion_cov)"
   ]
  },
  {
   "cell_type": "markdown",
   "metadata": {
    "id": "mLnWUCz_d3na"
   },
   "source": [
    "Run your evaluation code on the test set with the dummy explanations and get the removal performances. \n",
    "This takes about 1-3 minutes, depending on the GPU you were assigned."
   ]
  },
  {
   "cell_type": "code",
   "execution_count": 23,
   "metadata": {
    "colab": {
     "base_uri": "https://localhost:8080/"
    },
    "executionInfo": {
     "elapsed": 3971,
     "status": "ok",
     "timestamp": 1670775886952,
     "user": {
      "displayName": "Bálint Mucsányi",
      "userId": "14329416034316418738"
     },
     "user_tz": -60
    },
    "id": "kiwjxpyS6Wz3",
    "outputId": "e96be8e9-5d63-44cc-d323-489c94490cab"
   },
   "outputs": [
    {
     "name": "stdout",
     "output_type": "stream",
     "text": [
      "fill with zero values:\n"
     ]
    },
    {
     "name": "stderr",
     "output_type": "stream",
     "text": [
      "100%|██████████| 8/8 [00:01<00:00,  5.33it/s]\n"
     ]
    },
    {
     "name": "stdout",
     "output_type": "stream",
     "text": [
      "fill with mean values:\n"
     ]
    },
    {
     "name": "stderr",
     "output_type": "stream",
     "text": [
      "100%|██████████| 8/8 [00:01<00:00,  6.63it/s]\n"
     ]
    },
    {
     "name": "stdout",
     "output_type": "stream",
     "text": [
      "fill with noise:\n"
     ]
    },
    {
     "name": "stderr",
     "output_type": "stream",
     "text": [
      "100%|██████████| 8/8 [00:01<00:00,  6.70it/s]\n"
     ]
    }
   ],
   "source": [
    "explanations = torch.from_numpy(np.stack([centered_gaussian(28, 28)] * len(fmnist_test)))\n",
    "\n",
    "# Calculate removal performance for a gaussian explanation by filling pixels with\n",
    "# zero values\n",
    "print(\"fill with zero values:\")\n",
    "removal_performances = remove_and_classify(\n",
    "    model=lenet,\n",
    "    dataset=fmnist_test,\n",
    "    explanations=explanations,\n",
    "    k=100,\n",
    "    fill='zero',\n",
    "    batch_size=1024\n",
    ")\n",
    "# Inplace, adding the original accuracy in front for AUC \n",
    "removal_performances.insert(0, fmnist_accuracy)\n",
    "\n",
    "# mean values\n",
    "print(\"fill with mean values:\")\n",
    "removal_performances_mean = remove_and_classify(\n",
    "    model=lenet,\n",
    "    dataset=fmnist_test,\n",
    "    explanations=explanations,\n",
    "    k=100,\n",
    "    fill='mean',\n",
    "    batch_size=1024,\n",
    "    mean=fashion_mean\n",
    ")\n",
    "removal_performances_mean.insert(0, fmnist_accuracy)\n",
    "\n",
    "# noise\n",
    "print(\"fill with noise:\")\n",
    "removal_performances_noise = remove_and_classify(\n",
    "    model=lenet,\n",
    "    dataset=fmnist_test,\n",
    "    explanations=explanations,\n",
    "    k=100,\n",
    "    fill='noise',\n",
    "    batch_size=1024,\n",
    "    mean=fashion_mean,\n",
    "    cov=fashion_cov\n",
    ") \n",
    "removal_performances_noise.insert(0, fmnist_accuracy)\n",
    "\n"
   ]
  },
  {
   "cell_type": "code",
   "execution_count": 24,
   "metadata": {
    "colab": {
     "base_uri": "https://localhost:8080/",
     "height": 296
    },
    "executionInfo": {
     "elapsed": 640,
     "status": "ok",
     "timestamp": 1670775887571,
     "user": {
      "displayName": "Bálint Mucsányi",
      "userId": "14329416034316418738"
     },
     "user_tz": -60
    },
    "id": "WbtG30l5mb_v",
    "outputId": "eb6ab2bb-1c84-44f3-9612-4f6052f0899b"
   },
   "outputs": [
    {
     "name": "stdout",
     "output_type": "stream",
     "text": [
      "The remove and classify score is  0.413\n",
      "The remove and classify score for mean fill is  0.498\n",
      "The remove and classify score for noisy fill is  0.304\n"
     ]
    },
    {
     "data": {
      "image/png": "[encoded data removed]",
      "text/plain": [
       "<Figure size 432x288 with 1 Axes>"
      ]
     },
     "metadata": {
      "needs_background": "light"
     },
     "output_type": "display_data"
    }
   ],
   "source": [
    "# To get the remove-and-classify score, get the AUC of the plot and plot the removal\n",
    "# performances for analysis\n",
    "rac_score = auc(range(len(removal_performances)), removal_performances)\n",
    "rac_score_norm = rac_score / auc(range(len(removal_performances)), [fmnist_accuracy]*len(removal_performances))\n",
    "print(f\"The remove and classify score is {rac_score_norm: .3f}\") \n",
    "\n",
    "\n",
    "rac_score = auc(range(len(removal_performances_mean)), removal_performances_mean)\n",
    "rac_score_norm = rac_score / auc(range(len(removal_performances_mean)), [fmnist_accuracy]*len(removal_performances_mean))\n",
    "print(f\"The remove and classify score for mean fill is {rac_score_norm: .3f}\") \n",
    "\n",
    "\n",
    "rac_score = auc(range(len(removal_performances_noise)), removal_performances_noise)\n",
    "rac_score_norm = rac_score / auc(range(len(removal_performances_noise)), [fmnist_accuracy]*len(removal_performances_noise))\n",
    "print(f\"The remove and classify score for noisy fill is {rac_score_norm: .3f}\") \n",
    "\n",
    "plt.plot(removal_performances, label=\"zero fill\")\n",
    "plt.plot(removal_performances_mean, label=\"mean fill\")\n",
    "plt.plot(removal_performances_noise, label=\"noisy fill\")\n",
    "plt.legend()\n",
    "plt.ylabel('Model accuracy')\n",
    "plt.xlabel('Feature removal step (k=100)')\n",
    "plt.show()"
   ]
  },
  {
   "cell_type": "code",
   "execution_count": 36,
   "metadata": {
    "id": "jm_TZOQCFKGY"
   },
   "outputs": [],
   "source": [
    "# We only delete references that we do not need later on.\n",
    "# This avoids unnecessary reimporting and prevents possible\n",
    "# reseeding, making results not reproducible. We also do not\n",
    "# need to redefine variables.\n",
    "# to_delete = [\n",
    "#     \"LeNet\", \"apply_random_seed\", \"datasets\", \"drive\", \"explanations\",\n",
    "#     \"fmnist_accuracy\", \"fmnist_test\", \"lenet\", \"rac_score\", \"rac_score_norm\",\n",
    "#     \"removal_performances\", \"transform\"\n",
    "# ]\n",
    "\n",
    "# for reference in to_delete:\n",
    "#     del globals()[reference]"
   ]
  },
  {
   "cell_type": "markdown",
   "metadata": {
    "id": "vJYhnyMpvJ_e"
   },
   "source": [
    "## **2. Explaining predictions with feature attribution** (25+5+10=40pts)\n",
    "Recommended start: 25/11/2022"
   ]
  },
  {
   "cell_type": "markdown",
   "metadata": {
    "id": "Q_PcjncvG2sJ"
   },
   "source": [
    "###2.1 CAM implementation (25pts)\n",
    "\n",
    "In this exercise, you will implement the feature attribution explanation method [CAM by Zhou et al. (2016)](http://ieeexplore.ieee.org/document/7780688/) in PyTorch using an already pre-trained ResNet50 on the image classification task of CUB, which is often used in XAI. CUB is a bird classification dataset with 200 classes of bird species. \n",
    "\n",
    "Additionally, you will also implement the vanilla gradient explanation method as a baseline to compare to.\n",
    "\n",
    "We provide the model and model evaluation code below. Visualize your results with the provided method. \n"
   ]
  },
  {
   "cell_type": "markdown",
   "metadata": {
    "id": "_NkggFEgeJfJ"
   },
   "source": [
    "First, we load the dataset and the model. As this is not a standard PyTorch dataset, we added a bit of functionality to it for our experiments. Loading the dataset takes a bit (loading roughly 3 min)."
   ]
  },
  {
   "cell_type": "code",
   "execution_count": 2,
   "metadata": {
    "colab": {
     "base_uri": "https://localhost:8080/",
     "height": 86,
     "referenced_widgets": [
      "7e73cc3d713d4bf1a5e4c0c2e4c83208",
      "32e2c6a49b2c4c15895923391a1b099b",
      "54ec965329c1426e9806fb92e90943db",
      "4a504bed7a4342c8aacfc1bfc3835f75",
      "5ece7367431b43a9af13a4be573394e3",
      "6d61c6ab44524cd19a1fdda4fcf9458d",
      "315f84ef07c84b3eb3614f80b5457f0e",
      "2274ebf7c3534871b8dd29a443c40d55",
      "92134079d2794f52846d19c9eb4e39d1",
      "e192af2a38ac42d9982123e7f5af226b",
      "361031797c8249e4bfa55f9c1970dc10"
     ]
    },
    "executionInfo": {
     "elapsed": 126931,
     "status": "ok",
     "timestamp": 1670776014491,
     "user": {
      "displayName": "Bálint Mucsányi",
      "userId": "14329416034316418738"
     },
     "user_tz": -60
    },
    "id": "ILZaOVrIzRnu",
    "outputId": "bce81aa3-71f1-4bc4-834b-4b4250322b8c"
   },
   "outputs": [
    {
     "name": "stdout",
     "output_type": "stream",
     "text": [
      "Files already downloaded and verified\n"
     ]
    }
   ],
   "source": [
    "cub_test = load_cub_test()\n",
    "num_classes = 200 # 200 bird species in CUB dataset"
   ]
  },
  {
   "cell_type": "code",
   "execution_count": 15,
   "metadata": {},
   "outputs": [
    {
     "name": "stdout",
     "output_type": "stream",
     "text": [
      "CUB mean:  tensor([-0.0133,  0.1500,  0.0740])\n",
      "CUB min:  tensor(-2.1179)\n",
      "CUB max:  tensor(2.6400)\n",
      "CUB cov: \n",
      " tensor([[1.0022, 0.0000, 0.0000],\n",
      "        [0.0000, 0.9990, 0.0000],\n",
      "        [0.0000, 0.0000, 1.1549]])\n"
     ]
    }
   ],
   "source": [
    "dataloader_cub = DataLoader(cub_test,batch_size=1000)\n",
    "data = next(iter(dataloader_cub))[0]\n",
    "cub_mean = data.mean(dim=[0,2,3]) \n",
    "cub_max = data.max()\n",
    "cub_min = data.min()\n",
    "cub_cov = torch.diag(data.std(dim=[0,2,3]))\n",
    "print(\"CUB mean: \",cub_mean)\n",
    "print(\"CUB min: \",cub_min)\n",
    "print(\"CUB max: \",cub_max)\n",
    "print(\"CUB cov: \\n\",cub_cov)"
   ]
  },
  {
   "cell_type": "markdown",
   "metadata": {
    "id": "HwtBthPYT5aY"
   },
   "source": [
    "#### Load pre-trained ResNet50 with changed architecture in the last layers (5pts)"
   ]
  },
  {
   "cell_type": "markdown",
   "metadata": {
    "id": "lfBUXm-lUbGk"
   },
   "source": [
    "Then, we load the model. It is a ResNet50 model that is pre-trained on the CUB dataset. \n",
    "\n",
    "**Important:** As mentioned during the lecture, there is an architectural change to the classic ResNet50 in the last layers in the provided model. Usually, a ResNet ends with a global average pooling layer before a dense layer, and then followed by a softmax. This is equivalent to changing the last layers to a 1x1 convolutional layer, global average pooling followed by softmax. With this architecture change, it is simpler to extract CAM. "
   ]
  },
  {
   "cell_type": "code",
   "execution_count": 3,
   "metadata": {
    "colab": {
     "base_uri": "https://localhost:8080/"
    },
    "executionInfo": {
     "elapsed": 6782,
     "status": "ok",
     "timestamp": 1670776021249,
     "user": {
      "displayName": "Bálint Mucsányi",
      "userId": "14329416034316418738"
     },
     "user_tz": -60
    },
    "id": "VmWZG6eYUMBi",
    "outputId": "0794afd6-3eda-4b37-8b0c-f329ee2b39d4"
   },
   "outputs": [
    {
     "data": {
      "text/plain": [
       "ResNet(\n",
       "  (conv1): Conv2d(3, 64, kernel_size=(7, 7), stride=(2, 2), padding=(3, 3), bias=False)\n",
       "  (bn1): BatchNorm2d(64, eps=1e-05, momentum=0.1, affine=True, track_running_stats=True)\n",
       "  (relu): ReLU(inplace=True)\n",
       "  (maxpool): MaxPool2d(kernel_size=3, stride=2, padding=1, dilation=1, ceil_mode=False)\n",
       "  (layer1): Sequential(\n",
       "    (0): Bottleneck(\n",
       "      (conv1): Conv2d(64, 64, kernel_size=(1, 1), stride=(1, 1), bias=False)\n",
       "      (bn1): BatchNorm2d(64, eps=1e-05, momentum=0.1, affine=True, track_running_stats=True)\n",
       "      (conv2): Conv2d(64, 64, kernel_size=(3, 3), stride=(1, 1), padding=(1, 1), bias=False)\n",
       "      (bn2): BatchNorm2d(64, eps=1e-05, momentum=0.1, affine=True, track_running_stats=True)\n",
       "      (conv3): Conv2d(64, 256, kernel_size=(1, 1), stride=(1, 1), bias=False)\n",
       "      (bn3): BatchNorm2d(256, eps=1e-05, momentum=0.1, affine=True, track_running_stats=True)\n",
       "      (relu): ReLU(inplace=True)\n",
       "      (downsample): Sequential(\n",
       "        (0): Conv2d(64, 256, kernel_size=(1, 1), stride=(1, 1), bias=False)\n",
       "        (1): BatchNorm2d(256, eps=1e-05, momentum=0.1, affine=True, track_running_stats=True)\n",
       "      )\n",
       "    )\n",
       "    (1): Bottleneck(\n",
       "      (conv1): Conv2d(256, 64, kernel_size=(1, 1), stride=(1, 1), bias=False)\n",
       "      (bn1): BatchNorm2d(64, eps=1e-05, momentum=0.1, affine=True, track_running_stats=True)\n",
       "      (conv2): Conv2d(64, 64, kernel_size=(3, 3), stride=(1, 1), padding=(1, 1), bias=False)\n",
       "      (bn2): BatchNorm2d(64, eps=1e-05, momentum=0.1, affine=True, track_running_stats=True)\n",
       "      (conv3): Conv2d(64, 256, kernel_size=(1, 1), stride=(1, 1), bias=False)\n",
       "      (bn3): BatchNorm2d(256, eps=1e-05, momentum=0.1, affine=True, track_running_stats=True)\n",
       "      (relu): ReLU(inplace=True)\n",
       "    )\n",
       "    (2): Bottleneck(\n",
       "      (conv1): Conv2d(256, 64, kernel_size=(1, 1), stride=(1, 1), bias=False)\n",
       "      (bn1): BatchNorm2d(64, eps=1e-05, momentum=0.1, affine=True, track_running_stats=True)\n",
       "      (conv2): Conv2d(64, 64, kernel_size=(3, 3), stride=(1, 1), padding=(1, 1), bias=False)\n",
       "      (bn2): BatchNorm2d(64, eps=1e-05, momentum=0.1, affine=True, track_running_stats=True)\n",
       "      (conv3): Conv2d(64, 256, kernel_size=(1, 1), stride=(1, 1), bias=False)\n",
       "      (bn3): BatchNorm2d(256, eps=1e-05, momentum=0.1, affine=True, track_running_stats=True)\n",
       "      (relu): ReLU(inplace=True)\n",
       "    )\n",
       "  )\n",
       "  (layer2): Sequential(\n",
       "    (0): Bottleneck(\n",
       "      (conv1): Conv2d(256, 128, kernel_size=(1, 1), stride=(1, 1), bias=False)\n",
       "      (bn1): BatchNorm2d(128, eps=1e-05, momentum=0.1, affine=True, track_running_stats=True)\n",
       "      (conv2): Conv2d(128, 128, kernel_size=(3, 3), stride=(2, 2), padding=(1, 1), bias=False)\n",
       "      (bn2): BatchNorm2d(128, eps=1e-05, momentum=0.1, affine=True, track_running_stats=True)\n",
       "      (conv3): Conv2d(128, 512, kernel_size=(1, 1), stride=(1, 1), bias=False)\n",
       "      (bn3): BatchNorm2d(512, eps=1e-05, momentum=0.1, affine=True, track_running_stats=True)\n",
       "      (relu): ReLU(inplace=True)\n",
       "      (downsample): Sequential(\n",
       "        (0): Conv2d(256, 512, kernel_size=(1, 1), stride=(2, 2), bias=False)\n",
       "        (1): BatchNorm2d(512, eps=1e-05, momentum=0.1, affine=True, track_running_stats=True)\n",
       "      )\n",
       "    )\n",
       "    (1): Bottleneck(\n",
       "      (conv1): Conv2d(512, 128, kernel_size=(1, 1), stride=(1, 1), bias=False)\n",
       "      (bn1): BatchNorm2d(128, eps=1e-05, momentum=0.1, affine=True, track_running_stats=True)\n",
       "      (conv2): Conv2d(128, 128, kernel_size=(3, 3), stride=(1, 1), padding=(1, 1), bias=False)\n",
       "      (bn2): BatchNorm2d(128, eps=1e-05, momentum=0.1, affine=True, track_running_stats=True)\n",
       "      (conv3): Conv2d(128, 512, kernel_size=(1, 1), stride=(1, 1), bias=False)\n",
       "      (bn3): BatchNorm2d(512, eps=1e-05, momentum=0.1, affine=True, track_running_stats=True)\n",
       "      (relu): ReLU(inplace=True)\n",
       "    )\n",
       "    (2): Bottleneck(\n",
       "      (conv1): Conv2d(512, 128, kernel_size=(1, 1), stride=(1, 1), bias=False)\n",
       "      (bn1): BatchNorm2d(128, eps=1e-05, momentum=0.1, affine=True, track_running_stats=True)\n",
       "      (conv2): Conv2d(128, 128, kernel_size=(3, 3), stride=(1, 1), padding=(1, 1), bias=False)\n",
       "      (bn2): BatchNorm2d(128, eps=1e-05, momentum=0.1, affine=True, track_running_stats=True)\n",
       "      (conv3): Conv2d(128, 512, kernel_size=(1, 1), stride=(1, 1), bias=False)\n",
       "      (bn3): BatchNorm2d(512, eps=1e-05, momentum=0.1, affine=True, track_running_stats=True)\n",
       "      (relu): ReLU(inplace=True)\n",
       "    )\n",
       "    (3): Bottleneck(\n",
       "      (conv1): Conv2d(512, 128, kernel_size=(1, 1), stride=(1, 1), bias=False)\n",
       "      (bn1): BatchNorm2d(128, eps=1e-05, momentum=0.1, affine=True, track_running_stats=True)\n",
       "      (conv2): Conv2d(128, 128, kernel_size=(3, 3), stride=(1, 1), padding=(1, 1), bias=False)\n",
       "      (bn2): BatchNorm2d(128, eps=1e-05, momentum=0.1, affine=True, track_running_stats=True)\n",
       "      (conv3): Conv2d(128, 512, kernel_size=(1, 1), stride=(1, 1), bias=False)\n",
       "      (bn3): BatchNorm2d(512, eps=1e-05, momentum=0.1, affine=True, track_running_stats=True)\n",
       "      (relu): ReLU(inplace=True)\n",
       "    )\n",
       "  )\n",
       "  (layer3): Sequential(\n",
       "    (0): Bottleneck(\n",
       "      (conv1): Conv2d(512, 256, kernel_size=(1, 1), stride=(1, 1), bias=False)\n",
       "      (bn1): BatchNorm2d(256, eps=1e-05, momentum=0.1, affine=True, track_running_stats=True)\n",
       "      (conv2): Conv2d(256, 256, kernel_size=(3, 3), stride=(2, 2), padding=(1, 1), bias=False)\n",
       "      (bn2): BatchNorm2d(256, eps=1e-05, momentum=0.1, affine=True, track_running_stats=True)\n",
       "      (conv3): Conv2d(256, 1024, kernel_size=(1, 1), stride=(1, 1), bias=False)\n",
       "      (bn3): BatchNorm2d(1024, eps=1e-05, momentum=0.1, affine=True, track_running_stats=True)\n",
       "      (relu): ReLU(inplace=True)\n",
       "      (downsample): Sequential(\n",
       "        (0): Conv2d(512, 1024, kernel_size=(1, 1), stride=(2, 2), bias=False)\n",
       "        (1): BatchNorm2d(1024, eps=1e-05, momentum=0.1, affine=True, track_running_stats=True)\n",
       "      )\n",
       "    )\n",
       "    (1): Bottleneck(\n",
       "      (conv1): Conv2d(1024, 256, kernel_size=(1, 1), stride=(1, 1), bias=False)\n",
       "      (bn1): BatchNorm2d(256, eps=1e-05, momentum=0.1, affine=True, track_running_stats=True)\n",
       "      (conv2): Conv2d(256, 256, kernel_size=(3, 3), stride=(1, 1), padding=(1, 1), bias=False)\n",
       "      (bn2): BatchNorm2d(256, eps=1e-05, momentum=0.1, affine=True, track_running_stats=True)\n",
       "      (conv3): Conv2d(256, 1024, kernel_size=(1, 1), stride=(1, 1), bias=False)\n",
       "      (bn3): BatchNorm2d(1024, eps=1e-05, momentum=0.1, affine=True, track_running_stats=True)\n",
       "      (relu): ReLU(inplace=True)\n",
       "    )\n",
       "    (2): Bottleneck(\n",
       "      (conv1): Conv2d(1024, 256, kernel_size=(1, 1), stride=(1, 1), bias=False)\n",
       "      (bn1): BatchNorm2d(256, eps=1e-05, momentum=0.1, affine=True, track_running_stats=True)\n",
       "      (conv2): Conv2d(256, 256, kernel_size=(3, 3), stride=(1, 1), padding=(1, 1), bias=False)\n",
       "      (bn2): BatchNorm2d(256, eps=1e-05, momentum=0.1, affine=True, track_running_stats=True)\n",
       "      (conv3): Conv2d(256, 1024, kernel_size=(1, 1), stride=(1, 1), bias=False)\n",
       "      (bn3): BatchNorm2d(1024, eps=1e-05, momentum=0.1, affine=True, track_running_stats=True)\n",
       "      (relu): ReLU(inplace=True)\n",
       "    )\n",
       "    (3): Bottleneck(\n",
       "      (conv1): Conv2d(1024, 256, kernel_size=(1, 1), stride=(1, 1), bias=False)\n",
       "      (bn1): BatchNorm2d(256, eps=1e-05, momentum=0.1, affine=True, track_running_stats=True)\n",
       "      (conv2): Conv2d(256, 256, kernel_size=(3, 3), stride=(1, 1), padding=(1, 1), bias=False)\n",
       "      (bn2): BatchNorm2d(256, eps=1e-05, momentum=0.1, affine=True, track_running_stats=True)\n",
       "      (conv3): Conv2d(256, 1024, kernel_size=(1, 1), stride=(1, 1), bias=False)\n",
       "      (bn3): BatchNorm2d(1024, eps=1e-05, momentum=0.1, affine=True, track_running_stats=True)\n",
       "      (relu): ReLU(inplace=True)\n",
       "    )\n",
       "    (4): Bottleneck(\n",
       "      (conv1): Conv2d(1024, 256, kernel_size=(1, 1), stride=(1, 1), bias=False)\n",
       "      (bn1): BatchNorm2d(256, eps=1e-05, momentum=0.1, affine=True, track_running_stats=True)\n",
       "      (conv2): Conv2d(256, 256, kernel_size=(3, 3), stride=(1, 1), padding=(1, 1), bias=False)\n",
       "      (bn2): BatchNorm2d(256, eps=1e-05, momentum=0.1, affine=True, track_running_stats=True)\n",
       "      (conv3): Conv2d(256, 1024, kernel_size=(1, 1), stride=(1, 1), bias=False)\n",
       "      (bn3): BatchNorm2d(1024, eps=1e-05, momentum=0.1, affine=True, track_running_stats=True)\n",
       "      (relu): ReLU(inplace=True)\n",
       "    )\n",
       "    (5): Bottleneck(\n",
       "      (conv1): Conv2d(1024, 256, kernel_size=(1, 1), stride=(1, 1), bias=False)\n",
       "      (bn1): BatchNorm2d(256, eps=1e-05, momentum=0.1, affine=True, track_running_stats=True)\n",
       "      (conv2): Conv2d(256, 256, kernel_size=(3, 3), stride=(1, 1), padding=(1, 1), bias=False)\n",
       "      (bn2): BatchNorm2d(256, eps=1e-05, momentum=0.1, affine=True, track_running_stats=True)\n",
       "      (conv3): Conv2d(256, 1024, kernel_size=(1, 1), stride=(1, 1), bias=False)\n",
       "      (bn3): BatchNorm2d(1024, eps=1e-05, momentum=0.1, affine=True, track_running_stats=True)\n",
       "      (relu): ReLU(inplace=True)\n",
       "    )\n",
       "  )\n",
       "  (layer4): Sequential(\n",
       "    (0): Bottleneck(\n",
       "      (conv1): Conv2d(1024, 512, kernel_size=(1, 1), stride=(1, 1), bias=False)\n",
       "      (bn1): BatchNorm2d(512, eps=1e-05, momentum=0.1, affine=True, track_running_stats=True)\n",
       "      (conv2): Conv2d(512, 512, kernel_size=(3, 3), stride=(1, 1), padding=(1, 1), bias=False)\n",
       "      (bn2): BatchNorm2d(512, eps=1e-05, momentum=0.1, affine=True, track_running_stats=True)\n",
       "      (conv3): Conv2d(512, 2048, kernel_size=(1, 1), stride=(1, 1), bias=False)\n",
       "      (bn3): BatchNorm2d(2048, eps=1e-05, momentum=0.1, affine=True, track_running_stats=True)\n",
       "      (relu): ReLU(inplace=True)\n",
       "      (downsample): Sequential(\n",
       "        (0): Conv2d(1024, 2048, kernel_size=(1, 1), stride=(1, 1), bias=False)\n",
       "        (1): BatchNorm2d(2048, eps=1e-05, momentum=0.1, affine=True, track_running_stats=True)\n",
       "      )\n",
       "    )\n",
       "    (1): Bottleneck(\n",
       "      (conv1): Conv2d(2048, 512, kernel_size=(1, 1), stride=(1, 1), bias=False)\n",
       "      (bn1): BatchNorm2d(512, eps=1e-05, momentum=0.1, affine=True, track_running_stats=True)\n",
       "      (conv2): Conv2d(512, 512, kernel_size=(3, 3), stride=(1, 1), padding=(1, 1), bias=False)\n",
       "      (bn2): BatchNorm2d(512, eps=1e-05, momentum=0.1, affine=True, track_running_stats=True)\n",
       "      (conv3): Conv2d(512, 2048, kernel_size=(1, 1), stride=(1, 1), bias=False)\n",
       "      (bn3): BatchNorm2d(2048, eps=1e-05, momentum=0.1, affine=True, track_running_stats=True)\n",
       "      (relu): ReLU(inplace=True)\n",
       "    )\n",
       "    (2): Bottleneck(\n",
       "      (conv1): Conv2d(2048, 512, kernel_size=(1, 1), stride=(1, 1), bias=False)\n",
       "      (bn1): BatchNorm2d(512, eps=1e-05, momentum=0.1, affine=True, track_running_stats=True)\n",
       "      (conv2): Conv2d(512, 512, kernel_size=(3, 3), stride=(1, 1), padding=(1, 1), bias=False)\n",
       "      (bn2): BatchNorm2d(512, eps=1e-05, momentum=0.1, affine=True, track_running_stats=True)\n",
       "      (conv3): Conv2d(512, 2048, kernel_size=(1, 1), stride=(1, 1), bias=False)\n",
       "      (bn3): BatchNorm2d(2048, eps=1e-05, momentum=0.1, affine=True, track_running_stats=True)\n",
       "      (relu): ReLU(inplace=True)\n",
       "    )\n",
       "  )\n",
       "  (conv_last): Conv2d(2048, 200, kernel_size=(1, 1), stride=(1, 1))\n",
       "  (attention): Sequential(\n",
       "    (0): Conv2d(2048, 1, kernel_size=(1, 1), stride=(1, 1))\n",
       "    (1): ReLU(inplace=True)\n",
       "  )\n",
       ")"
      ]
     },
     "execution_count": 3,
     "metadata": {},
     "output_type": "execute_result"
    }
   ],
   "source": [
    "resnet = resnet50(\n",
    "    dataset_name=\"CUB\",\n",
    "    pretrained=False,\n",
    "    num_classes=num_classes,\n",
    "    large_feature_map=False,\n",
    "    use_bn=True\n",
    ")\n",
    "ckpt = torch.load(os.path.join(BASE_PATH, \"cam_cub_checkpoint.pth.tar\")) \n",
    "resnet.load_state_dict(ckpt[\"state_dict\"])\n",
    "resnet.to(device)\n",
    "resnet.eval()"
   ]
  },
  {
   "cell_type": "code",
   "execution_count": 4,
   "metadata": {
    "colab": {
     "base_uri": "https://localhost:8080/"
    },
    "executionInfo": {
     "elapsed": 5285,
     "status": "ok",
     "timestamp": 1670776026514,
     "user": {
      "displayName": "Bálint Mucsányi",
      "userId": "14329416034316418738"
     },
     "user_tz": -60
    },
    "id": "4_rjmWDAX6Jl",
    "outputId": "8b9b3cb7-e865-4db2-e3ca-5b4b0afa0d52"
   },
   "outputs": [
    {
     "name": "stdout",
     "output_type": "stream",
     "text": [
      "Accuracy on the test set: 0.799\n"
     ]
    }
   ],
   "source": [
    "cub_accuracy = model_accuracy(resnet, cub_test, batch_size=8)\n",
    "assert cub_accuracy == 0.799\n",
    "print(f'Accuracy on the test set: {cub_accuracy:.3f}')"
   ]
  },
  {
   "cell_type": "markdown",
   "metadata": {
    "id": "9T53FR9Sdtv1"
   },
   "source": [
    "Below, we provide the functions to show an image of the dataset and to visualize the feature attribution explanation as a heatmap overlay. Examples on how to use are also provided."
   ]
  },
  {
   "cell_type": "code",
   "execution_count": 5,
   "metadata": {
    "colab": {
     "base_uri": "https://localhost:8080/",
     "height": 210
    },
    "executionInfo": {
     "elapsed": 26,
     "status": "ok",
     "timestamp": 1670776026516,
     "user": {
      "displayName": "Bálint Mucsányi",
      "userId": "14329416034316418738"
     },
     "user_tz": -60
    },
    "id": "Rk_PpSdBYopP",
    "outputId": "0254d20a-1e9e-42fb-eeaa-865c6180e140"
   },
   "outputs": [
    {
     "data": {
      "image/png": "[encoded data removed]",
      "text/plain": [
       "<Figure size 216x216 with 1 Axes>"
      ]
     },
     "metadata": {
      "needs_background": "light"
     },
     "output_type": "display_data"
    }
   ],
   "source": [
    "# Example. Visualizing the first test image.\n",
    "show_sample(dataset=cub_test, sample_idx=0)"
   ]
  },
  {
   "cell_type": "code",
   "execution_count": 6,
   "metadata": {
    "colab": {
     "base_uri": "https://localhost:8080/",
     "height": 264
    },
    "executionInfo": {
     "elapsed": 24,
     "status": "ok",
     "timestamp": 1670776026517,
     "user": {
      "displayName": "Bálint Mucsányi",
      "userId": "14329416034316418738"
     },
     "user_tz": -60
    },
    "id": "rMBcPS-OgELZ",
    "outputId": "af862995-5b1e-4c29-da43-9b7fe84518b5"
   },
   "outputs": [
    {
     "data": {
      "image/png": "[encoded data removed]",
      "text/plain": [
       "<Figure size 432x288 with 1 Axes>"
      ]
     },
     "metadata": {
      "needs_background": "light"
     },
     "output_type": "display_data"
    }
   ],
   "source": [
    "# Example. Visualizing the Gaussian baseline as an attribution explanation overlay.\n",
    "show_attribution_overlay(\n",
    "    dataset=cub_test, \n",
    "    sample_idx=0,\n",
    "    attribution_map=centered_gaussian(224, 224),\n",
    "    title='Example overlay'\n",
    ")"
   ]
  },
  {
   "cell_type": "markdown",
   "metadata": {
    "id": "wYtvNOTLd94D"
   },
   "source": [
    "**Your turn! Write a function to extract CAM from the model to explain a certain prediction.**"
   ]
  },
  {
   "cell_type": "markdown",
   "metadata": {
    "id": "72poCyLKYz6a"
   },
   "source": [
    "#### Extract CAM from the ResNet50 model"
   ]
  },
  {
   "cell_type": "code",
   "execution_count": 7,
   "metadata": {
    "id": "hilr4D_wv9fA"
   },
   "outputs": [],
   "source": [
    "def class_activation_map(\n",
    "    model: torch.nn.Module,\n",
    "    dataset: torch.utils.data.Dataset,\n",
    "    sample_idx: int\n",
    ") -> torch.Tensor:\n",
    "    \"\"\"Gets the class activation map of the predicted class as a feature attribution\n",
    "    explanation from the last convolutional layer of the adapted ResNet model.\n",
    "\n",
    "    Originally from Zhou et al. (2016).\n",
    "\n",
    "    Args:\n",
    "        model: Adapted ResNet model with 1x1 convolution.\n",
    "        dataset: Dataset containing the instance to be explained.\n",
    "        sample_idx: Index of the instance to be explained in ``dataset``.\n",
    "    \n",
    "    Returns:\n",
    "        CAM of shape (224, 224) in the case of CUB.\n",
    "\n",
    "    \"\"\"\n",
    "    activation = {}\n",
    "    def get_activation(name):\n",
    "        def hook(model, input, output):\n",
    "            activation[name] = output.detach()\n",
    "        return hook\n",
    "    image, _ = dataset[sample_idx]\n",
    "    image = image.to(device)\n",
    "    image = image.unsqueeze(0)  # To get the batch size dimension\n",
    "    #### >>>> PUT YOUR SOLUTION HERE <<<< \n",
    "    handle = model.conv_last.register_forward_hook(get_activation(\"conv_last\"))\n",
    "    pred = model(image)[0].argmax()\n",
    "    handle.remove()\n",
    "\n",
    "    cam = activation[\"conv_last\"][:, pred, ...]\n",
    "    cam = transforms.functional.resize(cam, size=(224, 224))[0].cpu()\n",
    "    #### >>>> END OF YOUR SOLUTION <<<<\n",
    "    return cam"
   ]
  },
  {
   "cell_type": "code",
   "execution_count": 8,
   "metadata": {
    "colab": {
     "base_uri": "https://localhost:8080/",
     "height": 264
    },
    "executionInfo": {
     "elapsed": 1158,
     "status": "ok",
     "timestamp": 1670776027653,
     "user": {
      "displayName": "Bálint Mucsányi",
      "userId": "14329416034316418738"
     },
     "user_tz": -60
    },
    "id": "-hLAxIcUyKAq",
    "outputId": "4d0809f6-a7ab-492f-8bfe-daec8d6f1b3c"
   },
   "outputs": [
    {
     "data": {
      "image/png": "[encoded data removed]",
      "text/plain": [
       "<Figure size 432x288 with 1 Axes>"
      ]
     },
     "metadata": {
      "needs_background": "light"
     },
     "output_type": "display_data"
    }
   ],
   "source": [
    "cam = class_activation_map(resnet, cub_test, 0)\n",
    "\n",
    "show_attribution_overlay(dataset=cub_test, \n",
    "                         sample_idx=0,\n",
    "                         attribution_map=cam.squeeze(),\n",
    "                         title='Example overlay CAM')"
   ]
  },
  {
   "cell_type": "markdown",
   "metadata": {
    "id": "fYHp6A20kZwq"
   },
   "source": [
    "**Your turn again! Write a function to get the saliency map from [Simonyan et al. (2013)](http://arxiv.org/abs/1312.6034) as a local explanation.**"
   ]
  },
  {
   "cell_type": "code",
   "execution_count": 9,
   "metadata": {
    "id": "0ZSxidwE4yID"
   },
   "outputs": [],
   "source": [
    "def saliency(\n",
    "    model: torch.nn.Module,\n",
    "    dataset: torch.utils.data.Dataset,\n",
    "    sample_idx: int\n",
    ") -> torch.Tensor:\n",
    "    \"\"\"Computes the saliency map of the predicted class as a feature attribution\n",
    "    explanation. \n",
    "\n",
    "    From Simonyan et al. (2013).\n",
    "\n",
    "    Args:\n",
    "        model: Arbitrary vision model.\n",
    "        dataset: Dataset containing the instance to be explained.\n",
    "        sample_idx: Index of the instance to be explained in ``dataset``.\n",
    "    \n",
    "    Returns:\n",
    "        Saliency map of shape (224, 224) in the case of CUB.\n",
    "\n",
    "    \"\"\"\n",
    "    image, _ = dataset[sample_idx]\n",
    "    image = image.to(device)\n",
    "    image = image.unsqueeze(0)  # To get the batch size dimension\n",
    "    #### >>>> PUT YOUR SOLUTION HERE <<<<\n",
    "    image.requires_grad_(True)\n",
    "\n",
    "    if image.grad is not None:\n",
    "        image.grad.detach_()\n",
    "        image.grad.zero_()\n",
    "\n",
    "    pred = model(image)\n",
    "    max_pred = pred.max()\n",
    "    max_pred.backward(inputs=[image])\n",
    "\n",
    "    saliency = image.grad[0].detach().cpu().abs().max(dim=0)[0]\n",
    "\n",
    "    image.requires_grad_(False)\n",
    "    #### >>>> END OF YOUR SOLUTION <<<<\n",
    "    return saliency"
   ]
  },
  {
   "cell_type": "code",
   "execution_count": 10,
   "metadata": {
    "colab": {
     "base_uri": "https://localhost:8080/",
     "height": 264
    },
    "executionInfo": {
     "elapsed": 41,
     "status": "ok",
     "timestamp": 1670776027655,
     "user": {
      "displayName": "Bálint Mucsányi",
      "userId": "14329416034316418738"
     },
     "user_tz": -60
    },
    "id": "UlVQ4weA1dXQ",
    "outputId": "d4ea56ac-9f47-4778-b580-6fd1c72f5384"
   },
   "outputs": [
    {
     "data": {
      "image/png": "[encoded data removed]",
      "text/plain": [
       "<Figure size 432x288 with 1 Axes>"
      ]
     },
     "metadata": {
      "needs_background": "light"
     },
     "output_type": "display_data"
    }
   ],
   "source": [
    "saliency_attribution = saliency(resnet, cub_test, 0)\n",
    "\n",
    "show_attribution_overlay(\n",
    "    dataset=cub_test, \n",
    "    sample_idx=0,\n",
    "    attribution_map=saliency_attribution,\n",
    "    title=\"Example overlay Saliency\"\n",
    ")"
   ]
  },
  {
   "cell_type": "markdown",
   "metadata": {
    "id": "pq00W2m-HDDV"
   },
   "source": [
    "###2.2 Evaluate CAM (5pts)\n",
    "Evaluate the methods using the remove-and-classify approach from exercise 1.3 of this homework. You may need to adapt the remove-and-classify function to the CUB dataset, because it is not a standard PyTorch dataset (If you need help with this, please contact the tutors since coding this correctly is not the point of this exercise). Report the scores. "
   ]
  },
  {
   "cell_type": "code",
   "execution_count": 11,
   "metadata": {
    "id": "JzmSG9ktgrYf"
   },
   "outputs": [],
   "source": [
    "def get_explanations(\n",
    "    explanation_function: Callable,\n",
    "    model: torch.nn.Module,\n",
    "    dataset: torch.utils.data.Dataset\n",
    ") -> torch.Tensor:\n",
    "    \"\"\"Computes the explanations for the whole dataset specified in ``dataset``.\n",
    "\n",
    "    Args:\n",
    "        explanation_function: Python function that takes arguments\n",
    "            ``model`, ``dataset``, ``idx``.\n",
    "        model: Model to be explained that is compatible with ``explanation_function``.\n",
    "        dataset: Dataset for which explanations are gathered.\n",
    "\n",
    "    Returns:\n",
    "        A tensor of shape (batch_size, height, width) that contains explanations for all\n",
    "        samples in ``dataset``.\n",
    "\n",
    "    \"\"\"\n",
    "    explanations = []\n",
    "    for idx in tqdm(range(len(dataset))):\n",
    "        explanation = explanation_function(model, dataset, idx)\n",
    "        explanations.append(explanation)\n",
    "    return torch.stack(explanations)"
   ]
  },
  {
   "cell_type": "code",
   "execution_count": 35,
   "metadata": {
    "colab": {
     "base_uri": "https://localhost:8080/",
     "height": 348
    },
    "executionInfo": {
     "elapsed": 117356,
     "status": "ok",
     "timestamp": 1670776144976,
     "user": {
      "displayName": "Bálint Mucsányi",
      "userId": "14329416034316418738"
     },
     "user_tz": -60
    },
    "id": "6y-Gc1LEHKzV",
    "outputId": "24a42f65-36a0-4ef7-d276-b691bcda364f"
   },
   "outputs": [
    {
     "name": "stdout",
     "output_type": "stream",
     "text": [
      "get cam explanations\n"
     ]
    },
    {
     "name": "stderr",
     "output_type": "stream",
     "text": [
      "100%|██████████| 1000/1000 [00:10<00:00, 93.09it/s]\n"
     ]
    },
    {
     "name": "stdout",
     "output_type": "stream",
     "text": [
      "fill with mean / zero :\n"
     ]
    },
    {
     "name": "stderr",
     "output_type": "stream",
     "text": [
      "100%|██████████| 21/21 [00:39<00:00,  1.87s/it]\n"
     ]
    },
    {
     "name": "stdout",
     "output_type": "stream",
     "text": [
      "fill with noise:\n"
     ]
    },
    {
     "name": "stderr",
     "output_type": "stream",
     "text": [
      "100%|██████████| 21/21 [00:39<00:00,  1.90s/it]"
     ]
    },
    {
     "name": "stdout",
     "output_type": "stream",
     "text": [
      "\n",
      "(mean):  The remove and classify score is  0.096\n",
      "(noise): The remove and classify score is  0.076\n"
     ]
    },
    {
     "name": "stderr",
     "output_type": "stream",
     "text": [
      "\n"
     ]
    },
    {
     "data": {
      "image/png": "[encoded data removed]",
      "text/plain": [
       "<Figure size 432x288 with 1 Axes>"
      ]
     },
     "metadata": {
      "needs_background": "light"
     },
     "output_type": "display_data"
    }
   ],
   "source": [
    "# Evaluation of CAM\n",
    "# First, get the explanations\n",
    "print('get cam explanations')\n",
    "cam_explanations = get_explanations(class_activation_map, resnet, cub_test)  # (b, 224, 224)\n",
    "\n",
    "# Then remove-and-classify, this takes roughly 5-10 min depending on the GPU you got\n",
    "# assigned from Colab\n",
    "\n",
    "# Calculate removal performance for explanation by cam and filling pixels with\n",
    "# zero values\n",
    "print(\"fill with mean / zero :\")\n",
    "cam_removal_performances = remove_and_classify(\n",
    "    model=resnet,\n",
    "    dataset=cub_test,\n",
    "    explanations=cam_explanations,\n",
    "    k=2500,\n",
    "    fill='zero'\n",
    ")\n",
    "cam_removal_performances.insert(0, cub_accuracy)\n",
    "\n",
    "# mean = zero , we don't calculate the performance for a mean filling,\n",
    "# since the mean value is almost zero for the cub dataset\n",
    "\n",
    "# noise\n",
    "print(\"fill with noise:\")\n",
    "cam_removal_performances_noise = remove_and_classify(\n",
    "    model=resnet,\n",
    "    dataset=cub_test,\n",
    "    explanations=cam_explanations,\n",
    "    k=2500,\n",
    "    fill='noise',\n",
    "    mean=cub_mean,\n",
    "    cov =cub_cov\n",
    ")\n",
    "cam_removal_performances_noise.insert(0, cub_accuracy)\n",
    "\n",
    "# Inspect the results\n",
    "# mean\n",
    "rac_score = auc(range(len(cam_removal_performances)), cam_removal_performances)\n",
    "rac_score_norm = rac_score / auc(\n",
    "    range(len(cam_removal_performances)), [cub_accuracy] * len(cam_removal_performances)\n",
    ")\n",
    "print(f\"\\n(mean):  The remove and classify score is {rac_score_norm: .3f}\") \n",
    "# noise\n",
    "rac_score = auc(range(len(cam_removal_performances_noise)), cam_removal_performances_noise)\n",
    "rac_score_norm_cam = rac_score / auc(range(len(cam_removal_performances_noise)), [cub_accuracy]*len(cam_removal_performances_noise))\n",
    "print(f\"(noise): The remove and classify score is {rac_score_norm_cam: .3f}\")  \n",
    "\n",
    "plt.plot(cam_removal_performances,label=\"mean fill\")\n",
    "plt.plot(cam_removal_performances_noise,label=\"noisy fill\")\n",
    "plt.ylabel('Model accuracy')\n",
    "plt.title(\"CAM removal\")\n",
    "plt.legend()\n",
    "plt.xlabel('Feature removal step (k=2500)')\n",
    "plt.show()"
   ]
  },
  {
   "cell_type": "code",
   "execution_count": 33,
   "metadata": {
    "id": "_eT68iRJeXK9"
   },
   "outputs": [],
   "source": [
    "# # Free up RAM in colab\n",
    "# del globals()['cam_explanations']\n",
    "# del globals()['cam_removal_performances']"
   ]
  },
  {
   "cell_type": "code",
   "execution_count": 31,
   "metadata": {
    "colab": {
     "base_uri": "https://localhost:8080/",
     "height": 348
    },
    "executionInfo": {
     "elapsed": 136017,
     "status": "ok",
     "timestamp": 1670776280966,
     "user": {
      "displayName": "Bálint Mucsányi",
      "userId": "14329416034316418738"
     },
     "user_tz": -60
    },
    "id": "cj1pcXJ55lK2",
    "outputId": "d6447b77-808a-422f-bb55-9af84121aa53"
   },
   "outputs": [
    {
     "name": "stdout",
     "output_type": "stream",
     "text": [
      "get saliency explanations\n"
     ]
    },
    {
     "name": "stderr",
     "output_type": "stream",
     "text": [
      "100%|██████████| 1000/1000 [00:33<00:00, 30.18it/s]\n"
     ]
    },
    {
     "name": "stdout",
     "output_type": "stream",
     "text": [
      "fill with mean / zero :\n"
     ]
    },
    {
     "name": "stderr",
     "output_type": "stream",
     "text": [
      "100%|██████████| 21/21 [00:39<00:00,  1.86s/it]\n"
     ]
    },
    {
     "name": "stdout",
     "output_type": "stream",
     "text": [
      "fill with noise:\n"
     ]
    },
    {
     "name": "stderr",
     "output_type": "stream",
     "text": [
      "100%|██████████| 21/21 [00:40<00:00,  1.91s/it]"
     ]
    },
    {
     "name": "stdout",
     "output_type": "stream",
     "text": [
      "\n",
      "(mean): The remove and classify score is  0.074\n",
      "(noise): The remove and classify score is  0.046\n"
     ]
    },
    {
     "name": "stderr",
     "output_type": "stream",
     "text": [
      "\n"
     ]
    },
    {
     "data": {
      "image/png": "[encoded data removed]",
      "text/plain": [
       "<Figure size 432x288 with 1 Axes>"
      ]
     },
     "metadata": {
      "needs_background": "light"
     },
     "output_type": "display_data"
    }
   ],
   "source": [
    "# Evaluation of saliency\n",
    "\n",
    "# First, get the explanations\n",
    "print('get saliency explanations')\n",
    "saliency_explanations = get_explanations(saliency, resnet, cub_test)\n",
    "\n",
    "# then remove-and-classify\n",
    "# mean\n",
    "print(\"fill with mean / zero :\")\n",
    "saliency_removal_performances = remove_and_classify(\n",
    "    model=resnet,\n",
    "    dataset=cub_test,\n",
    "    explanations=saliency_explanations,\n",
    "    k=2500\n",
    ")\n",
    "saliency_removal_performances.insert(0, cub_accuracy)\n",
    "\n",
    "# noise\n",
    "print(\"fill with noise:\")\n",
    "saliency_removal_performances_noise = remove_and_classify(\n",
    "    model=resnet,\n",
    "    dataset=cub_test,\n",
    "    explanations=saliency_explanations,\n",
    "    k=2500,\n",
    "    fill='noise',\n",
    "    mean=cub_mean,\n",
    "    cov =cub_cov\n",
    ")\n",
    "saliency_removal_performances_noise.insert(0, cub_accuracy)\n",
    "\n",
    "\n",
    "# Inspect the results\n",
    "# mean\n",
    "rac_score = auc(range(len(saliency_removal_performances)), saliency_removal_performances)\n",
    "rac_score_norm = rac_score / auc(\n",
    "    range(len(saliency_removal_performances)),\n",
    "    [cub_accuracy] * len(saliency_removal_performances)\n",
    ")\n",
    "print(f\"\\n(mean):  The remove and classify score is {rac_score_norm: .3f}\") \n",
    "# noise\n",
    "rac_score = auc(range(len(saliency_removal_performances_noise)), saliency_removal_performances_noise)\n",
    "rac_score_norm_saliency = rac_score / auc(range(len(saliency_removal_performances_noise)), [cub_accuracy]*len(saliency_removal_performances_noise))\n",
    "print(f\"(noise): The remove and classify score is {rac_score_norm_saliency: .3f}\") \n",
    "\n",
    "plt.plot(saliency_removal_performances,label=\"mean fill\")\n",
    "plt.plot(saliency_removal_performances_noise,label=\"noisy fill\")\n",
    "plt.legend()\n",
    "plt.title(\"Saliency removal\")\n",
    "plt.ylabel('Model accuracy')\n",
    "plt.xlabel('Feature removal step (k=2500)')\n",
    "plt.show()"
   ]
  },
  {
   "cell_type": "code",
   "execution_count": 36,
   "metadata": {},
   "outputs": [
    {
     "name": "stdout",
     "output_type": "stream",
     "text": [
      "fill with cov/2 :\n"
     ]
    },
    {
     "name": "stderr",
     "output_type": "stream",
     "text": [
      "100%|██████████| 21/21 [00:40<00:00,  1.92s/it]\n"
     ]
    },
    {
     "name": "stdout",
     "output_type": "stream",
     "text": [
      "fill with cov/3 :\n"
     ]
    },
    {
     "name": "stderr",
     "output_type": "stream",
     "text": [
      "100%|██████████| 21/21 [00:39<00:00,  1.89s/it]\n"
     ]
    },
    {
     "data": {
      "image/png": "[encoded data removed]",
      "text/plain": [
       "<Figure size 432x288 with 1 Axes>"
      ]
     },
     "metadata": {
      "needs_background": "light"
     },
     "output_type": "display_data"
    }
   ],
   "source": [
    "# Test effects of used covariance\n",
    "print(\"fill with cov/2 :\")\n",
    "saliency_removal_performances_std2 = remove_and_classify(\n",
    "    resnet, cub_test, \n",
    "    saliency_explanations, \n",
    "    k=2500,\n",
    "    fill='noise',\n",
    "    mean=cub_mean,\n",
    "    cov=cub_cov/2\n",
    ")\n",
    "saliency_removal_performances_std2.insert(0, cub_accuracy)\n",
    "\n",
    "print(\"fill with cov/3 :\")\n",
    "saliency_removal_performances_std3 = remove_and_classify(\n",
    "    resnet, \n",
    "    cub_test, \n",
    "    saliency_explanations, \n",
    "    k=2500,\n",
    "    fill='noise',\n",
    "    mean=cub_mean,\n",
    "    cov=cub_cov/3\n",
    ")\n",
    "saliency_removal_performances_std3.insert(0, cub_accuracy)\n",
    "\n",
    "\n",
    "plt.plot(saliency_removal_performances, label=\"mean filled\")\n",
    "plt.plot(saliency_removal_performances_noise,label=\"cov\")\n",
    "plt.plot(saliency_removal_performances_std2,label=r\"$\\frac{cov}{2}$\")\n",
    "plt.plot(saliency_removal_performances_std3,label=r\"$\\frac{cov}{3}$\")\n",
    "plt.ylabel('Model accuracy')\n",
    "plt.xlabel('Feature removal step (k=2500)')\n",
    "plt.legend()\n",
    "plt.title(\"Different noise covariances\")\n",
    "plt.show()"
   ]
  },
  {
   "cell_type": "code",
   "execution_count": null,
   "metadata": {
    "id": "j0EopRdxhddu"
   },
   "outputs": [],
   "source": [
    "# # Free up RAM in colab\n",
    "# del globals()['saliency_explanations']\n",
    "# del globals()['saliency_removal_performances']"
   ]
  },
  {
   "cell_type": "code",
   "execution_count": 30,
   "metadata": {
    "colab": {
     "base_uri": "https://localhost:8080/",
     "height": 331
    },
    "executionInfo": {
     "elapsed": 104247,
     "status": "ok",
     "timestamp": 1670776385208,
     "user": {
      "displayName": "Bálint Mucsányi",
      "userId": "14329416034316418738"
     },
     "user_tz": -60
    },
    "id": "IeNzdxqu5uEa",
    "outputId": "0221650b-007c-4152-9902-7d935edc4e29"
   },
   "outputs": [
    {
     "name": "stdout",
     "output_type": "stream",
     "text": [
      "fill with mean / zero :\n"
     ]
    },
    {
     "name": "stderr",
     "output_type": "stream",
     "text": [
      "100%|██████████| 21/21 [00:38<00:00,  1.84s/it]\n"
     ]
    },
    {
     "name": "stdout",
     "output_type": "stream",
     "text": [
      "fill with noise :\n"
     ]
    },
    {
     "name": "stderr",
     "output_type": "stream",
     "text": [
      "100%|██████████| 21/21 [00:39<00:00,  1.88s/it]"
     ]
    },
    {
     "name": "stdout",
     "output_type": "stream",
     "text": [
      "\n",
      "(mean): The remove and classify score is  0.240\n",
      "(noise): The remove and classify score is  0.205\n"
     ]
    },
    {
     "name": "stderr",
     "output_type": "stream",
     "text": [
      "\n"
     ]
    },
    {
     "data": {
      "image/png": "[encoded data removed]",
      "text/plain": [
       "<Figure size 432x288 with 1 Axes>"
      ]
     },
     "metadata": {
      "needs_background": "light"
     },
     "output_type": "display_data"
    }
   ],
   "source": [
    "# Evaluation of Gaussian map baseline\n",
    "\n",
    "# First, get the explanations\n",
    "baseline_explanations = torch.from_numpy(np.stack(\n",
    "    [centered_gaussian(224, 224)] * len(cub_test))\n",
    ")\n",
    " \n",
    "# Then we apply remove-and-classify\n",
    "print(\"fill with mean / zero :\")\n",
    "baseline_removal_performances = remove_and_classify(\n",
    "    model=resnet,\n",
    "    dataset=cub_test,\n",
    "    explanations=baseline_explanations,\n",
    "    k=2500\n",
    ")\n",
    "baseline_removal_performances.insert(0, cub_accuracy)\n",
    "\n",
    "# noise\n",
    "print(\"fill with noise :\")\n",
    "baseline_removal_performances_noise = remove_and_classify(\n",
    "    resnet, \n",
    "    cub_test, \n",
    "    baseline_explanations, \n",
    "    k=2500,\n",
    "    fill='noise',\n",
    "    mean=cub_mean,\n",
    "    cov=cub_cov\n",
    ")\n",
    "baseline_removal_performances_noise.insert(0, cub_accuracy)\n",
    "\n",
    "# Inspect the results\n",
    "rac_score = auc(range(len(baseline_removal_performances)), baseline_removal_performances)\n",
    "rac_score_norm = rac_score / auc(\n",
    "    range(len(baseline_removal_performances)),\n",
    "    [cub_accuracy] * len(baseline_removal_performances))\n",
    "print(f\"\\n(mean):  The remove and classify score is {rac_score_norm: .3f}\") \n",
    "rac_score = auc(range(len(baseline_removal_performances_noise)), baseline_removal_performances_noise)\n",
    "rac_score_norm_baseline = rac_score / auc(range(len(baseline_removal_performances_noise)), [cub_accuracy]*len(baseline_removal_performances_noise))\n",
    "print(f\"(noise): The remove and classify score is {rac_score_norm_baseline: .3f}\") \n",
    "\n",
    "\n",
    "plt.plot(baseline_removal_performances,label=\"mean fill\")\n",
    "plt.plot(baseline_removal_performances_noise,label=\"noisy fill\")\n",
    "plt.ylabel('Model accuracy')\n",
    "plt.xlabel('Feature removal step')\n",
    "plt.legend()\n",
    "plt.title(\"Baseline explanation\")\n",
    "plt.show()"
   ]
  },
  {
   "cell_type": "code",
   "execution_count": 37,
   "metadata": {},
   "outputs": [
    {
     "data": {
      "image/png": "[encoded data removed]",
      "text/plain": [
       "<Figure size 432x288 with 1 Axes>"
      ]
     },
     "metadata": {
      "needs_background": "light"
     },
     "output_type": "display_data"
    },
    {
     "name": "stdout",
     "output_type": "stream",
     "text": [
      "Remove and classify score for Saliency (noise) :  0.046\n",
      "Remove and classify score for CAM (noise)      :  0.076\n",
      "Remove and classify score for Baseline (noise) :  0.205\n"
     ]
    }
   ],
   "source": [
    "plt.plot(cam_removal_performances_noise,label=\"CAM\")\n",
    "plt.plot(saliency_removal_performances_noise,label=\"Saliency\")\n",
    "plt.plot(baseline_removal_performances_noise,label=\"Baseline\")\n",
    "plt.ylabel('Model accuracy')\n",
    "plt.xlabel('Feature removal step')\n",
    "plt.legend()\n",
    "plt.title(\"Different explanations with noisy fill\")\n",
    "plt.show()\n",
    "print(f\"Remove and classify score for Saliency (noise) : {rac_score_norm_saliency: .3f}\")  \n",
    "print(f\"Remove and classify score for CAM (noise)      : {rac_score_norm_cam: .3f}\")  \n",
    "print(f\"Remove and classify score for Baseline (noise) : {rac_score_norm_baseline: .3f}\")  "
   ]
  },
  {
   "cell_type": "markdown",
   "metadata": {
    "id": "Z1qoX7_tHLYS"
   },
   "source": [
    "###2.3 Discussion (10 pts)\n",
    "Briefly discuss your experimental results, both from visual inspection and the quantitative analysis. What does the evaluation say about CAM? What could be limitations of the remove-and-classify approach, too? Does it make sense to e.g. weight different parts of the AUC differently?"
   ]
  },
  {
   "cell_type": "code",
   "execution_count": 36,
   "metadata": {
    "colab": {
     "base_uri": "https://localhost:8080/",
     "height": 329,
     "referenced_widgets": [
      "d761eeeeef414b61800623bb503eb81e",
      "c6320845a5a44fbcb4162fabd509f17d",
      "be809680196b46d592d7a1e66ad5807c",
      "51166abadb4041f4b0c129da425e0ab9",
      "9c9b436c99b54a3dbe51cb22f3434849",
      "62f6f062ba284995ac8a2fce0c7b052a",
      "80ab0011d84a438daeacb05a198b3ea2",
      "b12588cf4ede4fbc9a86e8539e8df509",
      "b997fdbb57c6466dbaec41916f214214",
      "13780cbab984412e89181dd82e9e1f06"
     ]
    },
    "executionInfo": {
     "elapsed": 1208,
     "status": "ok",
     "timestamp": 1670776386371,
     "user": {
      "displayName": "Bálint Mucsányi",
      "userId": "14329416034316418738"
     },
     "user_tz": -60
    },
    "id": "M_Fdmdj697QF",
    "outputId": "e34b0170-d6a8-4878-d725-42c250f965b0"
   },
   "outputs": [
    {
     "data": {
      "application/vnd.jupyter.widget-view+json": {
       "model_id": "03410c6cc1614cc0aa74c8b427361c4e",
       "version_major": 2,
       "version_minor": 0
      },
      "text/plain": [
       "interactive(children=(BoundedIntText(value=0, description='Index:', max=999), IntSlider(value=2000, descriptio…"
      ]
     },
     "metadata": {},
     "output_type": "display_data"
    }
   ],
   "source": [
    "# Visual inspection\n",
    "\n",
    "unnormalize_transform = transforms.Compose([\n",
    "    transforms.Normalize(\n",
    "        mean=[0.0, 0.0, 0.0],\n",
    "        std=[1 / 0.229, 1 / 0.224, 1 / 0.225]\n",
    "    ),\n",
    "    transforms.Normalize(mean=[-0.485, -0.456, -0.406], std=[1.0, 1.0, 1.0]),\n",
    "])\n",
    "\n",
    "def make_comparison(n, k):\n",
    "    original_image = cub_test.data[n]\n",
    "    original_image_plot = unnormalize_transform(original_image).permute(1, 2, 0)\n",
    "\n",
    "    fig, axs = plt.subplots(1, 4, figsize=(16, 4))\n",
    "    fig.suptitle(\"Different Perturbations\")\n",
    "    axs[0].set_title(\"Original\")\n",
    "    axs[0].set_axis_off()\n",
    "    axs[1].set_title(\"Gaussian\")\n",
    "    axs[1].set_axis_off()\n",
    "    axs[2].set_title(\"Saliency\")\n",
    "    axs[2].set_axis_off()\n",
    "    axs[3].set_title(\"CAM\")\n",
    "    axs[3].set_axis_off()\n",
    "\n",
    "    def plot_to_axis(ax, explanation):\n",
    "        perturbed_image = original_image.clone()\n",
    "        perturbed_image_flat = perturbed_image.flatten(start_dim=1, end_dim=2)\n",
    "\n",
    "        _, feature_size = perturbed_image_flat.shape\n",
    "        indices = explanation.flatten().argsort(descending=True)[:k]\n",
    "\n",
    "        perturbed_image_flat[:, indices] = 0\n",
    "        perturbed_image_plot = unnormalize_transform(\n",
    "            perturbed_image\n",
    "        ).permute(1, 2, 0)\n",
    "        ax.imshow(perturbed_image_plot)\n",
    "\n",
    "    # Original\n",
    "    axs[0].imshow(original_image_plot)\n",
    "\n",
    "    # Gaussian\n",
    "    gaussian_explanation = torch.from_numpy(centered_gaussian(224, 224))\n",
    "    plot_to_axis(axs[1], gaussian_explanation)\n",
    "\n",
    "    # Saliency\n",
    "    saliency_explanation = saliency(resnet, cub_test, n)\n",
    "    plot_to_axis(axs[2], saliency_explanation)\n",
    "\n",
    "    # CAM\n",
    "    cam_explanation = class_activation_map(resnet, cub_test, n)\n",
    "    plot_to_axis(axs[3], cam_explanation)\n",
    "\n",
    "_ = interact(\n",
    "    make_comparison,\n",
    "    n=widgets.BoundedIntText(\n",
    "        min=0, max=len(cub_test) - 1, value=0, description=\"Index:\"\n",
    "    ),\n",
    "    k=widgets.IntSlider(\n",
    "        min=100, max=20_000, value=2000, description=\"k:\"\n",
    "    ),\n",
    ")"
   ]
  },
  {
   "cell_type": "markdown",
   "metadata": {
    "id": "UxVYOzbRV0_i"
   },
   "source": [
    "Let us start with the visual inspection and qualitative analysis.\n",
    "\n",
    "As can be seen on the interactive plot above, the Gaussian perturbation considers the center pixels to be of most importance, regardless of the actual image.\n",
    "\n",
    "The saliency map gives us the best possible *local* counterfactual explanation in an infinitesimally small neighborhood of each pixel. However, it results in an explanation that is very hard to interpret and violates the *selectivity* criterion of a good explanation we defined at the beginning of the exercise. One could also argue that the *contrastiveness* it supplies is also not informative for humans, as it considers infinitesimally small perturbations. (Note that we *turned off* the pixels here and did not just perturb it by a small value, but the *choice of pixels* was made based on the gradient magnitudes.) We can conclude that it is overall a poor explanation for humans.\n",
    "\n",
    "The CAM explanation is much more connected than the saliency map. It is also much more global by construction, as the corresponding ResNet layer's level of abstraction is quite high. This results in a visually pleasing explanation that is also theoretically backed under the assumption that the attribution to the pixels in the activation map corresponds to the attribution to the respective original pixels. Overall we would choose this method from the three.\n",
    "\n",
    "Let us now turn to the quantitative analysis of the benchmarks above.\n",
    "\n",
    "The metric considered here is the (relative) auc score of the remove-and-classify accuracies. The best possible score on this metric is 0, which corresponds to the accuracy dropping to 0 already after the first $k$ removed pixels. Generally, we would like to see a convex (piecewise linear) curve here. If it is concave, it means that we remove not so relevant pixels first. \n",
    "\n",
    "The question arieses how to actually remove pixels. Therefore, we tested three different methods: Filling removed pixels with the mean of the dataset or with zero and lastly by sampling gaussian noise with the mean and variance of the dataset.\n",
    "In the case of FashionMNIST the non informative background has always a value of 0 whereas a pixel value of the dataset mean is always part of an object. Filling pixels inside the centered objects with a mean value is therefore not synonymous with removing them. This leads to a concave roc. Filling removed pixels with 0 leads to a steep drop in acuracy for the first 100 removed pixels but then reaches a plateau. However, filling with gaussian noise leads to a convex ROC. This behaviour also holds for the CUB dataset, where the AUC of a fill by noise is always lower than that of a fill by a mean value. \n",
    "In the case of saliency removal, filling with noise lowers the AUC by a factor of 1.7 and for CAM by 1.25 .\n",
    "From this we concluded that filling removed pixels with gaussian noise comes closest to actually removing these features and we used this approach for the following discussion.\n",
    "\n",
    "The saliency map performs best on this metric ($\\text{auc}^\\text{norm} = 0.046$), the CAM method is a bit behind ($\\text{auc}^\\text{norm} = 0.077$) and the Gaussian baseline method is notable worse ($\\text{auc}^\\text{norm} = 0.205$). This makes intuitive sense: the saliency map gives us attributions that are provably faithful to infinitesimal counterfactual perturbations and is not concerned at all about the human interpretability of the attributions. As can be seen, the saliency map also generalizes well to global perturbations (i.e., turning the respective pixels off). The CAM method only leverages (and explains) the very last, linear part of the model and uses the assumption mentioned above. It is quite coarse because of the employed upscaling, meaning that it indeed only captures important parts of the feature map (and correspondingly the input image, according to the assumption above) resulting in a human-interpretable method, but it is also less tailored towards this metric because of the coarseness. (Of course this coarseness is paired with a high abstraction level, so the CAM feature map corresponds to high-level features, which is a huge bonus regarding human interpretability.) The baseline also performs poorly here, unsurprisingly.\n",
    "\n",
    "Now we would like to address the limitations of the remove-and-classify approach. The method measures the drop in accuracy after turning off individual pixels based on their importance. It treats pixels independently which is very often violated. For example, if two pixels have high importance the method will turn both of them off, even though they might be highly correlated regarding the network's predictions and one could achieve a more significant accuracy drop by turning off less correlated pixels. Even more importantly, this metric is seemingly not well aligned with human interpretability, as the saliency map method achieved better scores than the CAM method. This is questionable, as the ultimate goal of XAI is facilitating human-computer interaction and providing human-interpretable explanations. It simply measures how accuracy changes based on the provided attributions, which might or might not be what we want to measure.\n",
    "\n",
    "Lastly, we would like to discuss the proposed idea of weighting different parts of the curve in the AUC metric differently. It would make sense to weight the area at early $k$ values more, as we are mainly interested in the most important attributions (i.e., the ones with the highest values), and they are removed at early $k$s. Thus, in order to measure the true impact of the attributions on accuracy, we should consider the effects of the most important ones."
   ]
  },
  {
   "cell_type": "code",
   "execution_count": null,
   "metadata": {
    "id": "1bxJjJRi_ZS5"
   },
   "outputs": [],
   "source": [
    "to_delete = [\n",
    "    \"auc\", \"baseline_explanations\", \"baseline_removal_performances\", \"cam\",\n",
    "    \"centered_gaussian\", \"ckpt\", \"class_activation_map\", \"create_auxiliary_tensors\",\n",
    "    \"cub_accuracy\", \"cub_test\", \"get_explanations\", \"load_cub_test\", \"make_comparison\",\n",
    "    \"model_accuracy\", \"num_classes\", \"rac_score\", \"rac_score_norm\", \"remove_and_classify\",\n",
    "    \"saliency\", \"saliency_attribution\"\n",
    "]\n",
    "\n",
    "for reference in to_delete:\n",
    "    del globals()[reference]"
   ]
  },
  {
   "cell_type": "markdown",
   "metadata": {
    "id": "4nkTDafHvkk5"
   },
   "source": [
    "## **3. Explaining a model with feature visualization** (15+15=30pts)\n",
    "Recommended start: 2/12/2022"
   ]
  },
  {
   "cell_type": "markdown",
   "metadata": {
    "id": "jZM3gEh6gN2M"
   },
   "source": [
    "###3.1 Feature visualization implementation (15pts)\n",
    "\n",
    "In this exercise, you are going to implement feature visualization of features learned by neurons of a GoogLeNet model. For regularization we will use the total variation regularizer from [Mahendran and Vevaldi (2014)](http://arxiv.org/abs/1412.0035). Beware that their paper is not about feature visualization, but about image reconstruction.\n",
    "\n",
    "Feature visualization is an optimization problem, where we are optimizing an input image to maximize the activation of certain units in the inference model. These units can be single neurons, but also convolutional filters.\n",
    "\n",
    "Try different starting images (e.g. random noise, any image) and feel free to play around with the resulting visualizations.\n"
   ]
  },
  {
   "cell_type": "code",
   "execution_count": null,
   "metadata": {
    "id": "1D78Mofi_xSo"
   },
   "outputs": [],
   "source": [
    "# First, we load the inference model from the PyTorch Hub.\n",
    "# We do a small change to the forward method of the model, by adding a clamp.\n",
    "# This keeps the input image in a valid range.\n",
    "\n",
    "class MyGoogLeNet(nn.Module):\n",
    "    def __init__(self):\n",
    "        super().__init__()\n",
    "        self.googlenet = torch.hub.load(\n",
    "            repo_or_dir='pytorch/vision:v0.10.0',\n",
    "            model='googlenet',\n",
    "            pretrained=True\n",
    "        )\n",
    "\n",
    "    def forward(self, x):\n",
    "        x = torch.clamp(x, 0, 1)\n",
    "        x = self.googlenet(x)\n",
    "        return x"
   ]
  },
  {
   "cell_type": "code",
   "execution_count": null,
   "metadata": {
    "colab": {
     "base_uri": "https://localhost:8080/",
     "height": 1000,
     "referenced_widgets": [
      "7f6249b57ebb4629b975202f075842b8",
      "51e75ccb86ce42cc8a90bc6be1b34a57",
      "3c462de009ea4347b2a3adc46391ee61",
      "ce107c5356ec43faa6ab1db0083a215e",
      "7df72634ef024f1aba279f236be003d7",
      "26bbb4e320fb446f968cc1f2da97de81",
      "290290617a5041d6a63399047d8eefd2",
      "4cb37638ea97459abb976707b267993f",
      "7921bd68cfc543459c4341c560b0963e",
      "94e394b510d64a3d8e3a99e1251980e1",
      "7d705430de8442b286bd7260b4f279bd"
     ]
    },
    "executionInfo": {
     "elapsed": 7904,
     "status": "ok",
     "timestamp": 1670921145357,
     "user": {
      "displayName": "Bálint Mucsányi",
      "userId": "14329416034316418738"
     },
     "user_tz": -60
    },
    "id": "DPYzJW7PAvl4",
    "outputId": "c24d7e47-2831-4f2d-caed-b3268d2d97d3"
   },
   "outputs": [],
   "source": [
    "net = MyGoogLeNet().to(device)\n",
    "net.eval()"
   ]
  },
  {
   "cell_type": "code",
   "execution_count": null,
   "metadata": {
    "id": "zWyTe0-_l0_Y"
   },
   "outputs": [],
   "source": [
    "# We provide a simple visualization function of the image \n",
    "def visualize(x: torch.Tensor):\n",
    "    \"\"\"Function to visualize image ``x`` (detached from computational graph) with plt.\"\"\"\n",
    "    x = x.cpu()\n",
    "    x = x.permute(1, 2, 0)  # Switch dimensions to bring RGB to back\n",
    "    plt.imshow(x)"
   ]
  },
  {
   "cell_type": "code",
   "execution_count": null,
   "metadata": {
    "id": "ep-jK7Xyfppo"
   },
   "outputs": [],
   "source": [
    "# We require the Hook method below to specify which network unit to target\n",
    "# in the visualization.\n",
    "\n",
    "# In contrast to the hook method used to compute CAM in exercise 2,\n",
    "# here we do not detach the activation because we require it for optimization\n",
    "activation = {}\n",
    "def get_activation(name):\n",
    "    def hook(model, input, output):\n",
    "        activation[name] = output\n",
    "    return hook\n",
    "\n",
    "# YOUR TURN: try out different channels/layers/units/etc. You can take inspiration from \n",
    "# https://distill.pub/2017/feature-visualization/appendix/googlenet/4b.html#channel-4\n",
    "\n",
    "# A whole inception layer\n",
    "handle_1 = net.googlenet.conv1.register_forward_hook(get_activation(\"1\"))\n",
    "handle_3 = net.googlenet.conv3.register_forward_hook(get_activation(\"3\"))\n",
    "handle_3b = net.googlenet.inception3b.register_forward_hook(get_activation(\"3b\"))\n",
    "handle_4b = net.googlenet.inception4b.register_forward_hook(get_activation(\"4b\"))\n",
    "handle_4e = net.googlenet.inception4e.register_forward_hook(get_activation(\"4e\"))\n",
    "handle_5b = net.googlenet.inception5b.register_forward_hook(get_activation(\"5b\"))\n",
    "# One convolutional layer of the inception layer\n",
    "# handle = net.googlenet.inception4a.branch1.conv.register_forward_hook(\n",
    "#     get_activation(\"4a1conv\")\n",
    "# )\n",
    "# The final layer\n",
    "handle_fc = net.googlenet.fc.register_forward_hook(get_activation(\"fc\"))"
   ]
  },
  {
   "cell_type": "markdown",
   "metadata": {
    "id": "hBUV9YZigVXE"
   },
   "source": [
    "**Your turn! Take a look at the code below and complete it to optimize the input image for high activation of the unit.**"
   ]
  },
  {
   "cell_type": "code",
   "execution_count": null,
   "metadata": {
    "colab": {
     "base_uri": "https://localhost:8080/",
     "height": 1000,
     "output_embedded_package_id": "1wWZlzz_Q5uumgTawjpwV7UMG6jZz6m7J"
    },
    "executionInfo": {
     "elapsed": 138882,
     "status": "ok",
     "timestamp": 1670922119121,
     "user": {
      "displayName": "Bálint Mucsányi",
      "userId": "14329416034316418738"
     },
     "user_tz": -60
    },
    "id": "zjJlUuwLgm9U",
    "outputId": "ddd608bd-8515-4fff-85a2-47d0feb72993"
   },
   "outputs": [],
   "source": [
    "x_dict = {}  # Dict to store the optimized images\n",
    "keys = [\"1\", \"3\", \"3b\", \"4b\", \"4e\", \"5b\", \"fc\"]\n",
    "channels = [3, 3, 2, 17, 9, 4, 99]\n",
    "for key, channel in zip(keys, channels):\n",
    "    print(f\"Starting {key}, feature map dimensions: \", end=\"\")\n",
    "    # Start with a random image.\n",
    "    # We want to optimize x to maximize the activation.\n",
    "    x = torch.rand((3, 224, 224), requires_grad=True, device=device)\n",
    "\n",
    "    optimizer = Adam([x], lr=0.01)  # Optimizer for the image\n",
    "    num_epochs = 500\n",
    "\n",
    "    x_prog = {}  # Dict to store optimization steps\n",
    "\n",
    "    dim_queried = False\n",
    "\n",
    "    for step in range(num_epochs):\n",
    "        optimizer.zero_grad()\n",
    "\n",
    "        # Run the model on the input\n",
    "        net(x.unsqueeze(0))  # Unsqueeze to simulate the batch\n",
    "\n",
    "        # Get the activation of a unit\n",
    "        neuron_activation = activation[key].squeeze()[channel]  # Take channel index 2\n",
    "\n",
    "        if not dim_queried:\n",
    "            print(activation[key].shape)\n",
    "            dim_queried = True\n",
    "\n",
    "        # Log progress\n",
    "        if step % 50 == 0:\n",
    "            print(f\"\\r\\tMean activation in Step {step}: \"\n",
    "                  f\"{neuron_activation.mean().item():.3f}\", end=\"\")\n",
    "            x_prog[step] = torch.clamp(x, 0, 1).clone().detach()\n",
    "\n",
    "        # Define the loss \n",
    "        loss = -neuron_activation.mean()\n",
    "\n",
    "        # Backpropagate and optimize\n",
    "        loss.backward()\n",
    "        optimizer.step()\n",
    "    \n",
    "    x_dict[key] = x_prog\n",
    "    print()\n",
    "\n",
    "# Visualize the progressions\n",
    "for layer_key in x_dict:\n",
    "    plt.figure(figsize=(20, 8))\n",
    "    plt.suptitle(f\"Layer {layer_key}\")\n",
    "    for i, key in enumerate(x_dict[layer_key]):\n",
    "        plt.subplot(2, 5, i + 1)\n",
    "        visualize(x_dict[layer_key][key])\n",
    "        plt.title(f'After {key} iterations')\n",
    "    plt.show()"
   ]
  },
  {
   "cell_type": "markdown",
   "metadata": {
    "id": "uSYxfJrLn9Rq"
   },
   "source": [
    "Let's add the total variation regularizer and see what happens. "
   ]
  },
  {
   "cell_type": "code",
   "execution_count": null,
   "metadata": {
    "id": "F6ZUZw_RoE27"
   },
   "outputs": [],
   "source": [
    "def total_variation(x, beta):\n",
    "    return (\n",
    "        (x[:, 1:, :-1] - x[:, :-1, :-1]).pow(2)\n",
    "        + (x[:, :-1, 1:] - x[:, :-1, :-1]).pow(2)\n",
    "    ).pow(beta / 2).sum()\n",
    "\n",
    "def total_variation_google(x):\n",
    "    pixel_dif1 = x[:, 1:, :] - x[:, :-1, :]\n",
    "    pixel_dif2 = x[:, :, 1:] - x[:, :, :-1]\n",
    "    return pixel_dif1.abs().sum() + pixel_dif2.abs().sum()"
   ]
  },
  {
   "cell_type": "code",
   "execution_count": null,
   "metadata": {
    "colab": {
     "base_uri": "https://localhost:8080/",
     "height": 673
    },
    "executionInfo": {
     "elapsed": 119111,
     "status": "ok",
     "timestamp": 1670927074229,
     "user": {
      "displayName": "Bálint Mucsányi",
      "userId": "14329416034316418738"
     },
     "user_tz": -60
    },
    "id": "PxNzr4Jt9QEm",
    "outputId": "9bd2bdcc-c743-4dac-a336-7529b9dd481f"
   },
   "outputs": [],
   "source": [
    "### PLAYGROUND\n",
    "x = torch.rand((3, 224, 224), requires_grad=True, device=device)\n",
    "\n",
    "optimizer = Adam([x], lr=0.05)  # Optimizer for the image\n",
    "num_epochs = 4000\n",
    "x_prog_tv = {}  # Dict to store the optimized images\n",
    "\n",
    "lambda_ = 1e-3\n",
    "beta = 1\n",
    "\n",
    "for step in range(num_epochs):\n",
    "    optimizer.zero_grad()\n",
    "\n",
    "    # Run the model on the input\n",
    "    net(x.unsqueeze(0))  # Unsqueeze to simulate the batch\n",
    "\n",
    "    # get the activation of a unit\n",
    "    neuron_activation = activation[\"4e\"].squeeze()[10]  # 5\n",
    "\n",
    "    # Log progress\n",
    "    if step % (num_epochs // 10) == 0:\n",
    "        print(f\"Mean activation in Step {step}: {neuron_activation.mean().item(): .3f}\")\n",
    "        x_prog_tv[step] = x.clone().detach().clamp(0, 1)\n",
    "\n",
    "    # Define the loss\n",
    "    loss = -neuron_activation.mean() + lambda_ * total_variation(x, beta)\n",
    "\n",
    "    # Backpropagate and optimize\n",
    "    loss.backward()\n",
    "    optimizer.step()\n",
    "\n",
    "# Visualize the progressions\n",
    "plt.figure(figsize=(20, 8))\n",
    "\n",
    "for i, key in enumerate(x_prog_tv.keys()):\n",
    "    plt.subplot(2, 5, i + 1)\n",
    "    visualize(x_prog_tv[key])\n",
    "    plt.title(f'After {key} iterations')"
   ]
  },
  {
   "cell_type": "code",
   "execution_count": null,
   "metadata": {
    "colab": {
     "base_uri": "https://localhost:8080/",
     "height": 1000,
     "output_embedded_package_id": "1mKjIbCqNueqx_zEo7Fe7lvx7xActgp1V"
    },
    "executionInfo": {
     "elapsed": 464916,
     "status": "ok",
     "timestamp": 1670929050506,
     "user": {
      "displayName": "Bálint Mucsányi",
      "userId": "14329416034316418738"
     },
     "user_tz": -60
    },
    "id": "kVJCQ0SZxnKM",
    "outputId": "6ba5ac2a-754e-4148-e439-a1af7c8367de"
   },
   "outputs": [],
   "source": [
    "x_dict_tv = {}  # Dict to store the optimized images\n",
    "lambdas = [5e-6, 1e-5, 1e-4, 5e-4, 1e-3, 5e-3, 5e-2]\n",
    "keys = [\"1\", \"3\", \"3b\", \"4b\", \"4e\", \"5b\", \"fc\"]\n",
    "num_epochs = [1000, 1000, 1000, 1000, 4000, 4000, 4000]\n",
    "channels = [3, 3, 2, 17, 10, 7, 99]\n",
    "for key, lambda_, channel, num_epoch in zip(keys, lambdas, channels, num_epochs):\n",
    "    print(f\"Starting {key}, feature map dimensions: \", end=\"\")\n",
    "    # Start with a random image.\n",
    "    # We want to optimize x to maximize the activation.\n",
    "    x = torch.rand((3, 224, 224), requires_grad=True, device=device)\n",
    "\n",
    "    optimizer = Adam([x], lr=0.05)  # Optimizer for the image\n",
    "    x_prog_tv = {}  # Dict to store the optimized images\n",
    "\n",
    "    beta = 1\n",
    "\n",
    "    dim_queried = False\n",
    "\n",
    "    for step in range(num_epoch):\n",
    "        optimizer.zero_grad()\n",
    "\n",
    "        # Run the model on the input\n",
    "        net(x.unsqueeze(0))  # Unsqueeze to simulate the batch\n",
    "\n",
    "        # Get the activation of a unit\n",
    "        neuron_activation = activation[key].squeeze()[channel]\n",
    "\n",
    "        if not dim_queried:\n",
    "            print(activation[key].shape)\n",
    "            dim_queried = True\n",
    "\n",
    "        # Log progress\n",
    "        if step % (num_epoch // 10) == 0:\n",
    "            print(f\"\\r\\tMean activation in Step {step}: \"\n",
    "                  f\"{neuron_activation.mean().item():.3f}\", end=\"\")\n",
    "            x_prog_tv[step] = torch.clamp(x, 0, 1).clone().detach()\n",
    "\n",
    "        # Define the loss \n",
    "        loss = -neuron_activation.mean() + lambda_ * total_variation(x, beta)\n",
    "\n",
    "        # Backpropagate and optimize\n",
    "        loss.backward()\n",
    "        optimizer.step()\n",
    "    \n",
    "    x_dict_tv[key] = x_prog_tv\n",
    "    print()\n",
    "\n",
    "# Visualize the progressions\n",
    "for layer_key in x_dict_tv:\n",
    "    plt.figure(figsize=(20, 8))\n",
    "    plt.suptitle(f\"Layer {layer_key}\")\n",
    "    for i, key in enumerate(x_dict_tv[layer_key]):\n",
    "        plt.subplot(2, 5, i + 1)\n",
    "        visualize(x_dict_tv[layer_key][key])\n",
    "        plt.title(f\"After {key} iterations\")\n",
    "    plt.show()"
   ]
  },
  {
   "cell_type": "markdown",
   "metadata": {
    "id": "QB8-LJ6H2Y0i"
   },
   "source": [
    "Below we show a different \"total variation\" regularizer that was used for the cited Google blog post."
   ]
  },
  {
   "cell_type": "code",
   "execution_count": null,
   "metadata": {
    "colab": {
     "base_uri": "https://localhost:8080/",
     "height": 1000,
     "output_embedded_package_id": "1RXeVnG3eg80K8NsQyIEIpn_BS-eXul2p"
    },
    "executionInfo": {
     "elapsed": 191655,
     "status": "ok",
     "timestamp": 1670929512105,
     "user": {
      "displayName": "Bálint Mucsányi",
      "userId": "14329416034316418738"
     },
     "user_tz": -60
    },
    "id": "WnGAwg0Qta2s",
    "outputId": "acf85086-5423-4f0b-8382-4ff1fc4f3d22"
   },
   "outputs": [],
   "source": [
    "x_dict_tv = {}  # Dict to store the optimized images\n",
    "lambdas = [5e-6, 1e-5, 1e-4, 5e-4, 1e-3, 5e-3, 5e-2]\n",
    "keys = [\"1\", \"3\", \"3b\", \"4b\", \"4e\", \"5b\", \"fc\"]\n",
    "num_epochs = [1000, 1000, 1000, 1000, 4000, 4000, 4000]\n",
    "channels = [3, 3, 2, 17, 10, 7, 99]\n",
    "for key, lambda_, channel, num_epoch in zip(keys, lambdas, channels, num_epochs):\n",
    "    print(f\"Starting {key}, feature map dimensions: \", end=\"\")\n",
    "    # Start with a random image.\n",
    "    # We want to optimize x to maximize the activation.\n",
    "    x = torch.rand((3, 224, 224), requires_grad=True, device=device)\n",
    "\n",
    "    optimizer = Adam([x], lr=0.05)  # Optimizer for the image\n",
    "    x_prog_tv = {}  # Dict to store the optimized images\n",
    "\n",
    "    dim_queried = False\n",
    "\n",
    "    for step in range(num_epoch):\n",
    "        optimizer.zero_grad()\n",
    "\n",
    "        # Run the model on the input\n",
    "        net(x.unsqueeze(0))  # Unsqueeze to simulate the batch\n",
    "\n",
    "        # Get the activation of a unit\n",
    "        neuron_activation = activation[key].squeeze()[channel]\n",
    "\n",
    "        if not dim_queried:\n",
    "            print(activation[key].shape)\n",
    "            dim_queried = True\n",
    "\n",
    "        # Log progress\n",
    "        if step % (num_epoch // 10) == 0:\n",
    "            print(f\"\\r\\tMean activation in Step {step}: \"\n",
    "                  f\"{neuron_activation.mean().item():.3f}\", end=\"\")\n",
    "            x_prog_tv[step] = torch.clamp(x, 0, 1).clone().detach()\n",
    "\n",
    "        # Define the loss \n",
    "        loss = -neuron_activation.mean() + lambda_ * total_variation_google(x)\n",
    "\n",
    "        # Backpropagate and optimize\n",
    "        loss.backward()\n",
    "        optimizer.step()\n",
    "    \n",
    "    x_dict_tv[key] = x_prog_tv\n",
    "    print()\n",
    "\n",
    "# Visualize the progressions\n",
    "for layer_key in x_dict_tv:\n",
    "    plt.figure(figsize=(20, 8))\n",
    "    plt.suptitle(f\"Layer {layer_key}\")\n",
    "    for i, key in enumerate(x_dict_tv[layer_key]):\n",
    "        plt.subplot(2, 5, i + 1)\n",
    "        visualize(x_dict_tv[layer_key][key])\n",
    "        plt.title(f\"After {key} iterations\")\n",
    "    plt.show()"
   ]
  },
  {
   "cell_type": "markdown",
   "metadata": {
    "id": "APe5_p5A8gpW"
   },
   "source": [
    "We can observe that the synthesized images are not marginally different between the two regularizers. For the FC layer in this particular case, the \"Google\" total variation regularizer seems to produce more human-interpretable results for the class \"goose\", but maybe it is at the cost of faithfulness of the feature attributions. Based on our experiments, we cannot announce either technique as clearly better, and the results are almost identical in general.\n",
    "\n",
    "We would also like to investigate how the image initialization influences the optimization procedure. To this end, we chose a random image from the internet, pre-processed it appropriately and initialized ``x`` to it. The results can be seen below."
   ]
  },
  {
   "cell_type": "code",
   "execution_count": null,
   "metadata": {
    "colab": {
     "base_uri": "https://localhost:8080/",
     "height": 673
    },
    "executionInfo": {
     "elapsed": 98685,
     "status": "ok",
     "timestamp": 1670925320514,
     "user": {
      "displayName": "Bálint Mucsányi",
      "userId": "14329416034316418738"
     },
     "user_tz": -60
    },
    "id": "JGWtM69l9DPu",
    "outputId": "2a64aa32-b75a-4d19-c8d1-e0181d38c602"
   },
   "outputs": [],
   "source": [
    "img_path = os.path.join(BASE_PATH, \"catdog.jpg\")\n",
    "from PIL import Image\n",
    "img = Image.open(img_path)\n",
    "img = img.resize((224, 224))\n",
    "img = torch.from_numpy(np.array(img))\n",
    "x = img.permute(2, 0, 1) / 255.\n",
    "x = x.to(device).requires_grad_(True)\n",
    "\n",
    "optimizer = Adam([x], lr=0.05)  # Optimizer for the image\n",
    "num_epochs = 4000\n",
    "x_prog_tv = {}  # Dict to store the optimized images\n",
    "\n",
    "lambda_ = 5e-6\n",
    "\n",
    "for step in range(num_epochs):\n",
    "    optimizer.zero_grad()\n",
    "\n",
    "    # Run the model on the input\n",
    "    net(x.unsqueeze(0))  # Unsqueeze to simulate the batch\n",
    "\n",
    "    # get the activation of a unit\n",
    "    neuron_activation = activation[\"4b\"].squeeze()[2]\n",
    "\n",
    "    # Log progress\n",
    "    if step % (num_epochs // 10) == 0:\n",
    "        print(f\"Mean activation in Step {step}: {neuron_activation.mean().item(): .3f}\")\n",
    "        x_prog_tv[step] = x.clone().detach().clamp(0, 1)\n",
    "\n",
    "    # Define the loss\n",
    "    loss = -neuron_activation.mean() + lambda_ * total_variation_google(x)\n",
    "\n",
    "    # Backpropagate and optimize\n",
    "    loss.backward()\n",
    "    optimizer.step()\n",
    "\n",
    "# Visualize the progressions\n",
    "plt.figure(figsize=(20, 8))\n",
    "\n",
    "for i, key in enumerate(x_prog_tv.keys()):\n",
    "    plt.subplot(2, 5, i + 1)\n",
    "    visualize(x_prog_tv[key])\n",
    "    plt.title(f'After {key} iterations')"
   ]
  },
  {
   "cell_type": "markdown",
   "metadata": {
    "id": "PtMsUdXG5SSf"
   },
   "source": [
    "For larger ``lambda_`` values the influence of the initial image is not clear. However, for e.g. ``lambda_ = 5e-6``, we start to clearly see the outline of the animals in the initial image. Thus, we can conclude that under a certain regularization threshold the initial image has a large effect on the generated attribution map, and we should thus stick to initializing with images that contain no information if we only want to measure the weight attributions of a layer / neuron."
   ]
  },
  {
   "cell_type": "markdown",
   "metadata": {
    "id": "4a6h5sDqgoS1"
   },
   "source": [
    "###3.2 Discussion (15pts)\n",
    "\n",
    "Discuss your observations from the feature visualizations. \n",
    "- What is the effect of the total variation regularization? Does it make sense?\n",
    "\n",
    "The total variation regularization penalizes large changes between neighboring image pixels. If we just optimize our image to get high activations from a neuron/layer, we get very noisy input images that contain high-frequency patterns. These are not human-interpretable and fail to achieve the end goal of weight attributions, which is to give humans an explanation about the model's behavior which they can easily understand. The images produced by unregularized optimization lie way outside the natural image data manifold but the network is very confident about their corresponding labels, making them essentially adversarial examples for the network. These are obviously not what we are interested in, rather what kind of *natural images* the model's neurons react strongly to.\n",
    "\n",
    "Total variation regularization mitigates this issue. By punishing high-frequency changes in the input through a discrete, finite-difference gradient approximation, the synthesized images are \"pushed\" towards the natural image data manifold and thus also become more human-interpretable. According to this reasoning, we would say that it is a useful ingredient towards interpretable attributions. As we can see, however, total variation regularization is not enough alone to give meaningful attributions. In the above plots we carefully picked channels where the synthesized image *might* correspond to human-understandable semantic concepts. In the majority of them it would be very hard to reason about abstract concepts the layer in question is paying attention to. We can see in the [linked resource](https://distill.pub/2017/feature-visualization/) that by using more sophisticated methods, one can obtain much more semantically meaningful attributions. However, we should be careful with directly interpreting these, as by moving away from direct, unregularized optimization we are introducing more and more human inductive biases, and can easily fall into the trap of confirmation bias.\n",
    "\n",
    "- What kind of insights do feature visualizations give into the model? How general are these insights?\n",
    "\n",
    "By the optimization procedure above, we can obtain example images that cause high activation in either a certain neuron, or an entire layer, etc. By regularizing in clever ways, we can also obtain images that are more human-interpretable than the sole maximizers of certain activations. The mentioned generality can be understood in several ways. First of all, as we use these attribution methods on already trained networks, the resulting attribution maps are implicitly influenced by the entire training dataset through the weights, so the insights found by these methods are quite general with respect to the training set. Secondly, if we do *not* optimize wrt. the last fc layer's attributions (so the actual semantic classes) then the generated images are still local to a particular channel/neuron of an intermediate layer, which is not general at all: by changing the layer or the neuron in question, we get marginally different images. This also showcases the complexity of DNNs and how hard it is *still* to understand their internals, even with such methods available.\n",
    "\n",
    "- Where could such explanations be used?\n",
    "\n",
    "These explanations capture the hierarchical structure of CNNs very well: by optimizing for activations of deeper layers, we obtain images that correspond to more and more abstract notions. Such general trends are easy to see and can help students who are learning about these networks. (However, local trends are still very hard to interpret, as the generated images vary considerably by simply considering different feature channels in the same layer.) In the [cited resource](https://distill.pub/2017/feature-visualization/) it is also emphasized that the method can be used to visualize how particular neurons act jointly and how they *represent information* jointly. By looking at some of the visualizations in the linked resource, we can also see that sometimes we are able to detect *spurious correlations* in the generated images. Not only are we able to detect that the model suffers from such spurious correlations, we can also *localize* these effects to some extent by knowing which neuron's/layer's activations gave rise to such an image. In the lecture we have discussed potential ways to overcome spurious correlations that we could employ after detecting it. It would be interesting to have a method that could highlight certain neurons in the network that might be useful to investigate with such feature visualization methods.\n",
    "\n"
   ]
  },
  {
   "cell_type": "markdown",
   "metadata": {
    "id": "3cWyZbpWlHXK"
   },
   "source": [
    "**WRITE YOUR ANSWER HERE**"
   ]
  },
  {
   "cell_type": "markdown",
   "metadata": {
    "id": "yEDFwURsvs8V"
   },
   "source": [
    "## **4. (Bonus) Short Paper Review** (10pts)\n",
    "\n",
    "In this bonus task, your task is to write a short review for **one** of the following papers: \n",
    "- [THIS LOOKS LIKE IT RATHER THAN THAT: PROTOKNN FOR SIMILARITY-BASED CLASSIFIERS](https://openreview.net/forum?id=lh-HRYxuoRr). \n",
    "- [TAKE 5: INTERPRETABLE IMAGE CLASSIFICATION WITH A HANDFUL OF FEATURES](https://openreview.net/forum?id=9EcAsB7wgM)\n",
    "- [ViT-CX: Causal Explanation of Vision Transformers](http://arxiv.org/abs/2211.03064)\n",
    "\n",
    "Below is are a few questions to consider in a review as inspiration (Slightly adapted from [ICML'22 reviewer guide](https://drive.google.com/file/d/15hPTA64h31ShaoybLWeU3moZan7zVbr_/view))\n",
    "- A concise summary of the paper\n",
    "    - What problem is addressed in the paper?\n",
    "    - Why does the problem matter?\n",
    "    - What is the key to the solution? What is the main contribution?\n",
    "    - Do the experiments sufficiently support the claims?\n",
    "- A clear statement of strengths and weaknesses\n",
    "    - What are the key contributions and why do they matter?\n",
    "    - What aspects of the paper most need improvement?\n",
    "- A comprehensive check of potential fundamental flaws in the paper\n",
    "    - Are the assumptions and theories (mathematically) sound?\n",
    "    - Are the experiments scientifically sound and valid?\n",
    "    - Is the problem addressed trivial?\n"
   ]
  },
  {
   "cell_type": "markdown",
   "metadata": {
    "id": "OcM2l_CrV9MI"
   },
   "source": [
    "**WRITE YOUR ANSWER HERE**"
   ]
  }
 ],
 "metadata": {
  "accelerator": "GPU",
  "colab": {
   "collapsed_sections": [
    "HwtBthPYT5aY",
    "72poCyLKYz6a"
   ],
   "provenance": [
    {
     "file_id": "1UO4hWoUKWB9lO_dACNDf8fxeBoXr4cvd",
     "timestamp": 1669557237864
    }
   ]
  },
  "gpuClass": "standard",
  "kernelspec": {
   "display_name": "Python 3 (ipykernel)",
   "language": "python",
   "name": "python3"
  },
  "language_info": {
   "codemirror_mode": {
    "name": "ipython",
    "version": 3
   },
   "file_extension": ".py",
   "mimetype": "text/x-python",
   "name": "python",
   "nbconvert_exporter": "python",
   "pygments_lexer": "ipython3",
   "version": "3.9.7"
  },
  "widgets": {
   "application/vnd.jupyter.widget-state+json": {
    "033dbebe074a4353a8811a53079489cd": {
     "model_module": "@jupyter-widgets/controls",
     "model_module_version": "1.5.0",
     "model_name": "HTMLModel",
     "state": {
      "_dom_classes": [],
      "_model_module": "@jupyter-widgets/controls",
      "_model_module_version": "1.5.0",
      "_model_name": "HTMLModel",
      "_view_count": null,
      "_view_module": "@jupyter-widgets/controls",
      "_view_module_version": "1.5.0",
      "_view_name": "HTMLView",
      "description": "",
      "description_tooltip": null,
      "layout": "IPY_MODEL_bc008b8d7cb441fc85e0b81dbe55a283",
      "placeholder": "​",
      "style": "IPY_MODEL_6524aecfa6654fa5b85d5a5b7da65382",
      "value": " 26421880/26421880 [00:03&lt;00:00, 14035619.61it/s]"
     }
    },
    "0493aa849ad74ec484d321800a27e6b4": {
     "model_module": "@jupyter-widgets/base",
     "model_module_version": "1.2.0",
     "model_name": "LayoutModel",
     "state": {
      "_model_module": "@jupyter-widgets/base",
      "_model_module_version": "1.2.0",
      "_model_name": "LayoutModel",
      "_view_count": null,
      "_view_module": "@jupyter-widgets/base",
      "_view_module_version": "1.2.0",
      "_view_name": "LayoutView",
      "align_content": null,
      "align_items": null,
      "align_self": null,
      "border": null,
      "bottom": null,
      "display": null,
      "flex": null,
      "flex_flow": null,
      "grid_area": null,
      "grid_auto_columns": null,
      "grid_auto_flow": null,
      "grid_auto_rows": null,
      "grid_column": null,
      "grid_gap": null,
      "grid_row": null,
      "grid_template_areas": null,
      "grid_template_columns": null,
      "grid_template_rows": null,
      "height": null,
      "justify_content": null,
      "justify_items": null,
      "left": null,
      "margin": null,
      "max_height": null,
      "max_width": null,
      "min_height": null,
      "min_width": null,
      "object_fit": null,
      "object_position": null,
      "order": null,
      "overflow": null,
      "overflow_x": null,
      "overflow_y": null,
      "padding": null,
      "right": null,
      "top": null,
      "visibility": null,
      "width": null
     }
    },
    "13780cbab984412e89181dd82e9e1f06": {
     "model_module": "@jupyter-widgets/base",
     "model_module_version": "1.2.0",
     "model_name": "LayoutModel",
     "state": {
      "_model_module": "@jupyter-widgets/base",
      "_model_module_version": "1.2.0",
      "_model_name": "LayoutModel",
      "_view_count": null,
      "_view_module": "@jupyter-widgets/base",
      "_view_module_version": "1.2.0",
      "_view_name": "LayoutView",
      "align_content": null,
      "align_items": null,
      "align_self": null,
      "border": null,
      "bottom": null,
      "display": null,
      "flex": null,
      "flex_flow": null,
      "grid_area": null,
      "grid_auto_columns": null,
      "grid_auto_flow": null,
      "grid_auto_rows": null,
      "grid_column": null,
      "grid_gap": null,
      "grid_row": null,
      "grid_template_areas": null,
      "grid_template_columns": null,
      "grid_template_rows": null,
      "height": null,
      "justify_content": null,
      "justify_items": null,
      "left": null,
      "margin": null,
      "max_height": null,
      "max_width": null,
      "min_height": null,
      "min_width": null,
      "object_fit": null,
      "object_position": null,
      "order": null,
      "overflow": null,
      "overflow_x": null,
      "overflow_y": null,
      "padding": null,
      "right": null,
      "top": null,
      "visibility": null,
      "width": null
     }
    },
    "1b7af3da37c845e881d5172ec2891e2d": {
     "model_module": "@jupyter-widgets/base",
     "model_module_version": "1.2.0",
     "model_name": "LayoutModel",
     "state": {
      "_model_module": "@jupyter-widgets/base",
      "_model_module_version": "1.2.0",
      "_model_name": "LayoutModel",
      "_view_count": null,
      "_view_module": "@jupyter-widgets/base",
      "_view_module_version": "1.2.0",
      "_view_name": "LayoutView",
      "align_content": null,
      "align_items": null,
      "align_self": null,
      "border": null,
      "bottom": null,
      "display": null,
      "flex": null,
      "flex_flow": null,
      "grid_area": null,
      "grid_auto_columns": null,
      "grid_auto_flow": null,
      "grid_auto_rows": null,
      "grid_column": null,
      "grid_gap": null,
      "grid_row": null,
      "grid_template_areas": null,
      "grid_template_columns": null,
      "grid_template_rows": null,
      "height": null,
      "justify_content": null,
      "justify_items": null,
      "left": null,
      "margin": null,
      "max_height": null,
      "max_width": null,
      "min_height": null,
      "min_width": null,
      "object_fit": null,
      "object_position": null,
      "order": null,
      "overflow": null,
      "overflow_x": null,
      "overflow_y": null,
      "padding": null,
      "right": null,
      "top": null,
      "visibility": null,
      "width": null
     }
    },
    "1b7d18d07bab4aabb947a2b619a5758b": {
     "model_module": "@jupyter-widgets/controls",
     "model_module_version": "1.5.0",
     "model_name": "HTMLModel",
     "state": {
      "_dom_classes": [],
      "_model_module": "@jupyter-widgets/controls",
      "_model_module_version": "1.5.0",
      "_model_name": "HTMLModel",
      "_view_count": null,
      "_view_module": "@jupyter-widgets/controls",
      "_view_module_version": "1.5.0",
      "_view_name": "HTMLView",
      "description": "",
      "description_tooltip": null,
      "layout": "IPY_MODEL_4840de2298bd4554ac3325822bb2bae9",
      "placeholder": "​",
      "style": "IPY_MODEL_839a6ee863ef4dae83212d9ddc6f5cd1",
      "value": " 5148/5148 [00:00&lt;00:00, 212943.69it/s]"
     }
    },
    "1c8c78537d3444b8a134590f12e6cb80": {
     "model_module": "@jupyter-widgets/controls",
     "model_module_version": "1.5.0",
     "model_name": "FloatProgressModel",
     "state": {
      "_dom_classes": [],
      "_model_module": "@jupyter-widgets/controls",
      "_model_module_version": "1.5.0",
      "_model_name": "FloatProgressModel",
      "_view_count": null,
      "_view_module": "@jupyter-widgets/controls",
      "_view_module_version": "1.5.0",
      "_view_name": "ProgressView",
      "bar_style": "success",
      "description": "",
      "description_tooltip": null,
      "layout": "IPY_MODEL_2ecff11b4c2947789258af1162414521",
      "max": 29515,
      "min": 0,
      "orientation": "horizontal",
      "style": "IPY_MODEL_2705a7697df44172a090a03d38076fc9",
      "value": 29515
     }
    },
    "2274ebf7c3534871b8dd29a443c40d55": {
     "model_module": "@jupyter-widgets/base",
     "model_module_version": "1.2.0",
     "model_name": "LayoutModel",
     "state": {
      "_model_module": "@jupyter-widgets/base",
      "_model_module_version": "1.2.0",
      "_model_name": "LayoutModel",
      "_view_count": null,
      "_view_module": "@jupyter-widgets/base",
      "_view_module_version": "1.2.0",
      "_view_name": "LayoutView",
      "align_content": null,
      "align_items": null,
      "align_self": null,
      "border": null,
      "bottom": null,
      "display": null,
      "flex": null,
      "flex_flow": null,
      "grid_area": null,
      "grid_auto_columns": null,
      "grid_auto_flow": null,
      "grid_auto_rows": null,
      "grid_column": null,
      "grid_gap": null,
      "grid_row": null,
      "grid_template_areas": null,
      "grid_template_columns": null,
      "grid_template_rows": null,
      "height": null,
      "justify_content": null,
      "justify_items": null,
      "left": null,
      "margin": null,
      "max_height": null,
      "max_width": null,
      "min_height": null,
      "min_width": null,
      "object_fit": null,
      "object_position": null,
      "order": null,
      "overflow": null,
      "overflow_x": null,
      "overflow_y": null,
      "padding": null,
      "right": null,
      "top": null,
      "visibility": null,
      "width": null
     }
    },
    "2615f007fa1143618b645479588fd74a": {
     "model_module": "@jupyter-widgets/base",
     "model_module_version": "1.2.0",
     "model_name": "LayoutModel",
     "state": {
      "_model_module": "@jupyter-widgets/base",
      "_model_module_version": "1.2.0",
      "_model_name": "LayoutModel",
      "_view_count": null,
      "_view_module": "@jupyter-widgets/base",
      "_view_module_version": "1.2.0",
      "_view_name": "LayoutView",
      "align_content": null,
      "align_items": null,
      "align_self": null,
      "border": null,
      "bottom": null,
      "display": null,
      "flex": null,
      "flex_flow": null,
      "grid_area": null,
      "grid_auto_columns": null,
      "grid_auto_flow": null,
      "grid_auto_rows": null,
      "grid_column": null,
      "grid_gap": null,
      "grid_row": null,
      "grid_template_areas": null,
      "grid_template_columns": null,
      "grid_template_rows": null,
      "height": null,
      "justify_content": null,
      "justify_items": null,
      "left": null,
      "margin": null,
      "max_height": null,
      "max_width": null,
      "min_height": null,
      "min_width": null,
      "object_fit": null,
      "object_position": null,
      "order": null,
      "overflow": null,
      "overflow_x": null,
      "overflow_y": null,
      "padding": null,
      "right": null,
      "top": null,
      "visibility": null,
      "width": null
     }
    },
    "26bbb4e320fb446f968cc1f2da97de81": {
     "model_module": "@jupyter-widgets/base",
     "model_module_version": "1.2.0",
     "model_name": "LayoutModel",
     "state": {
      "_model_module": "@jupyter-widgets/base",
      "_model_module_version": "1.2.0",
      "_model_name": "LayoutModel",
      "_view_count": null,
      "_view_module": "@jupyter-widgets/base",
      "_view_module_version": "1.2.0",
      "_view_name": "LayoutView",
      "align_content": null,
      "align_items": null,
      "align_self": null,
      "border": null,
      "bottom": null,
      "display": null,
      "flex": null,
      "flex_flow": null,
      "grid_area": null,
      "grid_auto_columns": null,
      "grid_auto_flow": null,
      "grid_auto_rows": null,
      "grid_column": null,
      "grid_gap": null,
      "grid_row": null,
      "grid_template_areas": null,
      "grid_template_columns": null,
      "grid_template_rows": null,
      "height": null,
      "justify_content": null,
      "justify_items": null,
      "left": null,
      "margin": null,
      "max_height": null,
      "max_width": null,
      "min_height": null,
      "min_width": null,
      "object_fit": null,
      "object_position": null,
      "order": null,
      "overflow": null,
      "overflow_x": null,
      "overflow_y": null,
      "padding": null,
      "right": null,
      "top": null,
      "visibility": null,
      "width": null
     }
    },
    "2705a7697df44172a090a03d38076fc9": {
     "model_module": "@jupyter-widgets/controls",
     "model_module_version": "1.5.0",
     "model_name": "ProgressStyleModel",
     "state": {
      "_model_module": "@jupyter-widgets/controls",
      "_model_module_version": "1.5.0",
      "_model_name": "ProgressStyleModel",
      "_view_count": null,
      "_view_module": "@jupyter-widgets/base",
      "_view_module_version": "1.2.0",
      "_view_name": "StyleView",
      "bar_color": null,
      "description_width": ""
     }
    },
    "290290617a5041d6a63399047d8eefd2": {
     "model_module": "@jupyter-widgets/controls",
     "model_module_version": "1.5.0",
     "model_name": "DescriptionStyleModel",
     "state": {
      "_model_module": "@jupyter-widgets/controls",
      "_model_module_version": "1.5.0",
      "_model_name": "DescriptionStyleModel",
      "_view_count": null,
      "_view_module": "@jupyter-widgets/base",
      "_view_module_version": "1.2.0",
      "_view_name": "StyleView",
      "description_width": ""
     }
    },
    "2ecff11b4c2947789258af1162414521": {
     "model_module": "@jupyter-widgets/base",
     "model_module_version": "1.2.0",
     "model_name": "LayoutModel",
     "state": {
      "_model_module": "@jupyter-widgets/base",
      "_model_module_version": "1.2.0",
      "_model_name": "LayoutModel",
      "_view_count": null,
      "_view_module": "@jupyter-widgets/base",
      "_view_module_version": "1.2.0",
      "_view_name": "LayoutView",
      "align_content": null,
      "align_items": null,
      "align_self": null,
      "border": null,
      "bottom": null,
      "display": null,
      "flex": null,
      "flex_flow": null,
      "grid_area": null,
      "grid_auto_columns": null,
      "grid_auto_flow": null,
      "grid_auto_rows": null,
      "grid_column": null,
      "grid_gap": null,
      "grid_row": null,
      "grid_template_areas": null,
      "grid_template_columns": null,
      "grid_template_rows": null,
      "height": null,
      "justify_content": null,
      "justify_items": null,
      "left": null,
      "margin": null,
      "max_height": null,
      "max_width": null,
      "min_height": null,
      "min_width": null,
      "object_fit": null,
      "object_position": null,
      "order": null,
      "overflow": null,
      "overflow_x": null,
      "overflow_y": null,
      "padding": null,
      "right": null,
      "top": null,
      "visibility": null,
      "width": null
     }
    },
    "3105d2b89bf946fe90cfd34c29046295": {
     "model_module": "@jupyter-widgets/controls",
     "model_module_version": "1.5.0",
     "model_name": "HTMLModel",
     "state": {
      "_dom_classes": [],
      "_model_module": "@jupyter-widgets/controls",
      "_model_module_version": "1.5.0",
      "_model_name": "HTMLModel",
      "_view_count": null,
      "_view_module": "@jupyter-widgets/controls",
      "_view_module_version": "1.5.0",
      "_view_name": "HTMLView",
      "description": "",
      "description_tooltip": null,
      "layout": "IPY_MODEL_4c63c2d3781748929437bc02035c0380",
      "placeholder": "​",
      "style": "IPY_MODEL_5c5e4bbe94d841ac9e537da3f55e508d",
      "value": "100%"
     }
    },
    "315f84ef07c84b3eb3614f80b5457f0e": {
     "model_module": "@jupyter-widgets/controls",
     "model_module_version": "1.5.0",
     "model_name": "DescriptionStyleModel",
     "state": {
      "_model_module": "@jupyter-widgets/controls",
      "_model_module_version": "1.5.0",
      "_model_name": "DescriptionStyleModel",
      "_view_count": null,
      "_view_module": "@jupyter-widgets/base",
      "_view_module_version": "1.2.0",
      "_view_name": "StyleView",
      "description_width": ""
     }
    },
    "320a2c6070eb4d9fac14321801ecb4ff": {
     "model_module": "@jupyter-widgets/controls",
     "model_module_version": "1.5.0",
     "model_name": "ProgressStyleModel",
     "state": {
      "_model_module": "@jupyter-widgets/controls",
      "_model_module_version": "1.5.0",
      "_model_name": "ProgressStyleModel",
      "_view_count": null,
      "_view_module": "@jupyter-widgets/base",
      "_view_module_version": "1.2.0",
      "_view_name": "StyleView",
      "bar_color": null,
      "description_width": ""
     }
    },
    "32e2c6a49b2c4c15895923391a1b099b": {
     "model_module": "@jupyter-widgets/controls",
     "model_module_version": "1.5.0",
     "model_name": "HTMLModel",
     "state": {
      "_dom_classes": [],
      "_model_module": "@jupyter-widgets/controls",
      "_model_module_version": "1.5.0",
      "_model_name": "HTMLModel",
      "_view_count": null,
      "_view_module": "@jupyter-widgets/controls",
      "_view_module_version": "1.5.0",
      "_view_name": "HTMLView",
      "description": "",
      "description_tooltip": null,
      "layout": "IPY_MODEL_6d61c6ab44524cd19a1fdda4fcf9458d",
      "placeholder": "​",
      "style": "IPY_MODEL_315f84ef07c84b3eb3614f80b5457f0e",
      "value": "100%"
     }
    },
    "354b2212dbb14e74b25ae7f5dc637115": {
     "model_module": "@jupyter-widgets/controls",
     "model_module_version": "1.5.0",
     "model_name": "DescriptionStyleModel",
     "state": {
      "_model_module": "@jupyter-widgets/controls",
      "_model_module_version": "1.5.0",
      "_model_name": "DescriptionStyleModel",
      "_view_count": null,
      "_view_module": "@jupyter-widgets/base",
      "_view_module_version": "1.2.0",
      "_view_name": "StyleView",
      "description_width": ""
     }
    },
    "361031797c8249e4bfa55f9c1970dc10": {
     "model_module": "@jupyter-widgets/controls",
     "model_module_version": "1.5.0",
     "model_name": "DescriptionStyleModel",
     "state": {
      "_model_module": "@jupyter-widgets/controls",
      "_model_module_version": "1.5.0",
      "_model_name": "DescriptionStyleModel",
      "_view_count": null,
      "_view_module": "@jupyter-widgets/base",
      "_view_module_version": "1.2.0",
      "_view_name": "StyleView",
      "description_width": ""
     }
    },
    "3c462de009ea4347b2a3adc46391ee61": {
     "model_module": "@jupyter-widgets/controls",
     "model_module_version": "1.5.0",
     "model_name": "FloatProgressModel",
     "state": {
      "_dom_classes": [],
      "_model_module": "@jupyter-widgets/controls",
      "_model_module_version": "1.5.0",
      "_model_name": "FloatProgressModel",
      "_view_count": null,
      "_view_module": "@jupyter-widgets/controls",
      "_view_module_version": "1.5.0",
      "_view_name": "ProgressView",
      "bar_style": "success",
      "description": "",
      "description_tooltip": null,
      "layout": "IPY_MODEL_4cb37638ea97459abb976707b267993f",
      "max": 52147035,
      "min": 0,
      "orientation": "horizontal",
      "style": "IPY_MODEL_7921bd68cfc543459c4341c560b0963e",
      "value": 52147035
     }
    },
    "45a1527c54034653b7d9d124e59255cf": {
     "model_module": "@jupyter-widgets/controls",
     "model_module_version": "1.5.0",
     "model_name": "HBoxModel",
     "state": {
      "_dom_classes": [],
      "_model_module": "@jupyter-widgets/controls",
      "_model_module_version": "1.5.0",
      "_model_name": "HBoxModel",
      "_view_count": null,
      "_view_module": "@jupyter-widgets/controls",
      "_view_module_version": "1.5.0",
      "_view_name": "HBoxView",
      "box_style": "",
      "children": [
       "IPY_MODEL_7f70c048050c49928cbf2aebcdbb5f1b",
       "IPY_MODEL_1c8c78537d3444b8a134590f12e6cb80",
       "IPY_MODEL_6a58b3fa2c3a4e9cb265bd45bff1518e"
      ],
      "layout": "IPY_MODEL_f8f6c7bdfc30444d8ff8d805a5c255a8"
     }
    },
    "4840de2298bd4554ac3325822bb2bae9": {
     "model_module": "@jupyter-widgets/base",
     "model_module_version": "1.2.0",
     "model_name": "LayoutModel",
     "state": {
      "_model_module": "@jupyter-widgets/base",
      "_model_module_version": "1.2.0",
      "_model_name": "LayoutModel",
      "_view_count": null,
      "_view_module": "@jupyter-widgets/base",
      "_view_module_version": "1.2.0",
      "_view_name": "LayoutView",
      "align_content": null,
      "align_items": null,
      "align_self": null,
      "border": null,
      "bottom": null,
      "display": null,
      "flex": null,
      "flex_flow": null,
      "grid_area": null,
      "grid_auto_columns": null,
      "grid_auto_flow": null,
      "grid_auto_rows": null,
      "grid_column": null,
      "grid_gap": null,
      "grid_row": null,
      "grid_template_areas": null,
      "grid_template_columns": null,
      "grid_template_rows": null,
      "height": null,
      "justify_content": null,
      "justify_items": null,
      "left": null,
      "margin": null,
      "max_height": null,
      "max_width": null,
      "min_height": null,
      "min_width": null,
      "object_fit": null,
      "object_position": null,
      "order": null,
      "overflow": null,
      "overflow_x": null,
      "overflow_y": null,
      "padding": null,
      "right": null,
      "top": null,
      "visibility": null,
      "width": null
     }
    },
    "4a504bed7a4342c8aacfc1bfc3835f75": {
     "model_module": "@jupyter-widgets/controls",
     "model_module_version": "1.5.0",
     "model_name": "HTMLModel",
     "state": {
      "_dom_classes": [],
      "_model_module": "@jupyter-widgets/controls",
      "_model_module_version": "1.5.0",
      "_model_name": "HTMLModel",
      "_view_count": null,
      "_view_module": "@jupyter-widgets/controls",
      "_view_module_version": "1.5.0",
      "_view_name": "HTMLView",
      "description": "",
      "description_tooltip": null,
      "layout": "IPY_MODEL_e192af2a38ac42d9982123e7f5af226b",
      "placeholder": "​",
      "style": "IPY_MODEL_361031797c8249e4bfa55f9c1970dc10",
      "value": " 1150585339/1150585339 [01:10&lt;00:00, 15625288.44it/s]"
     }
    },
    "4b5aa3f9753c4fbbb5323cce09096407": {
     "model_module": "@jupyter-widgets/controls",
     "model_module_version": "1.5.0",
     "model_name": "HBoxModel",
     "state": {
      "_dom_classes": [],
      "_model_module": "@jupyter-widgets/controls",
      "_model_module_version": "1.5.0",
      "_model_name": "HBoxModel",
      "_view_count": null,
      "_view_module": "@jupyter-widgets/controls",
      "_view_module_version": "1.5.0",
      "_view_name": "HBoxView",
      "box_style": "",
      "children": [
       "IPY_MODEL_8c008c3e66674b3699ad9200ad33329d",
       "IPY_MODEL_76b4e55d26ff41d49e7b0a2768b98748",
       "IPY_MODEL_ff71a7d8ae444cb5b2ae56b56e600527"
      ],
      "layout": "IPY_MODEL_77617d300a8f47da9275b29edc3f6973"
     }
    },
    "4c63c2d3781748929437bc02035c0380": {
     "model_module": "@jupyter-widgets/base",
     "model_module_version": "1.2.0",
     "model_name": "LayoutModel",
     "state": {
      "_model_module": "@jupyter-widgets/base",
      "_model_module_version": "1.2.0",
      "_model_name": "LayoutModel",
      "_view_count": null,
      "_view_module": "@jupyter-widgets/base",
      "_view_module_version": "1.2.0",
      "_view_name": "LayoutView",
      "align_content": null,
      "align_items": null,
      "align_self": null,
      "border": null,
      "bottom": null,
      "display": null,
      "flex": null,
      "flex_flow": null,
      "grid_area": null,
      "grid_auto_columns": null,
      "grid_auto_flow": null,
      "grid_auto_rows": null,
      "grid_column": null,
      "grid_gap": null,
      "grid_row": null,
      "grid_template_areas": null,
      "grid_template_columns": null,
      "grid_template_rows": null,
      "height": null,
      "justify_content": null,
      "justify_items": null,
      "left": null,
      "margin": null,
      "max_height": null,
      "max_width": null,
      "min_height": null,
      "min_width": null,
      "object_fit": null,
      "object_position": null,
      "order": null,
      "overflow": null,
      "overflow_x": null,
      "overflow_y": null,
      "padding": null,
      "right": null,
      "top": null,
      "visibility": null,
      "width": null
     }
    },
    "4cb37638ea97459abb976707b267993f": {
     "model_module": "@jupyter-widgets/base",
     "model_module_version": "1.2.0",
     "model_name": "LayoutModel",
     "state": {
      "_model_module": "@jupyter-widgets/base",
      "_model_module_version": "1.2.0",
      "_model_name": "LayoutModel",
      "_view_count": null,
      "_view_module": "@jupyter-widgets/base",
      "_view_module_version": "1.2.0",
      "_view_name": "LayoutView",
      "align_content": null,
      "align_items": null,
      "align_self": null,
      "border": null,
      "bottom": null,
      "display": null,
      "flex": null,
      "flex_flow": null,
      "grid_area": null,
      "grid_auto_columns": null,
      "grid_auto_flow": null,
      "grid_auto_rows": null,
      "grid_column": null,
      "grid_gap": null,
      "grid_row": null,
      "grid_template_areas": null,
      "grid_template_columns": null,
      "grid_template_rows": null,
      "height": null,
      "justify_content": null,
      "justify_items": null,
      "left": null,
      "margin": null,
      "max_height": null,
      "max_width": null,
      "min_height": null,
      "min_width": null,
      "object_fit": null,
      "object_position": null,
      "order": null,
      "overflow": null,
      "overflow_x": null,
      "overflow_y": null,
      "padding": null,
      "right": null,
      "top": null,
      "visibility": null,
      "width": null
     }
    },
    "51166abadb4041f4b0c129da425e0ab9": {
     "model_module": "@jupyter-widgets/output",
     "model_module_version": "1.0.0",
     "model_name": "OutputModel",
     "state": {
      "_dom_classes": [],
      "_model_module": "@jupyter-widgets/output",
      "_model_module_version": "1.0.0",
      "_model_name": "OutputModel",
      "_view_count": null,
      "_view_module": "@jupyter-widgets/output",
      "_view_module_version": "1.0.0",
      "_view_name": "OutputView",
      "layout": "IPY_MODEL_13780cbab984412e89181dd82e9e1f06",
      "msg_id": "",
      "outputs": [
       {
        "data": {
         "image/png": "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\n",
         "text/plain": "<Figure size 1152x288 with 4 Axes>"
        },
        "metadata": {
         "needs_background": "light"
        },
        "output_type": "display_data"
       }
      ]
     }
    },
    "51e75ccb86ce42cc8a90bc6be1b34a57": {
     "model_module": "@jupyter-widgets/controls",
     "model_module_version": "1.5.0",
     "model_name": "HTMLModel",
     "state": {
      "_dom_classes": [],
      "_model_module": "@jupyter-widgets/controls",
      "_model_module_version": "1.5.0",
      "_model_name": "HTMLModel",
      "_view_count": null,
      "_view_module": "@jupyter-widgets/controls",
      "_view_module_version": "1.5.0",
      "_view_name": "HTMLView",
      "description": "",
      "description_tooltip": null,
      "layout": "IPY_MODEL_26bbb4e320fb446f968cc1f2da97de81",
      "placeholder": "​",
      "style": "IPY_MODEL_290290617a5041d6a63399047d8eefd2",
      "value": "100%"
     }
    },
    "54ec965329c1426e9806fb92e90943db": {
     "model_module": "@jupyter-widgets/controls",
     "model_module_version": "1.5.0",
     "model_name": "FloatProgressModel",
     "state": {
      "_dom_classes": [],
      "_model_module": "@jupyter-widgets/controls",
      "_model_module_version": "1.5.0",
      "_model_name": "FloatProgressModel",
      "_view_count": null,
      "_view_module": "@jupyter-widgets/controls",
      "_view_module_version": "1.5.0",
      "_view_name": "ProgressView",
      "bar_style": "success",
      "description": "",
      "description_tooltip": null,
      "layout": "IPY_MODEL_2274ebf7c3534871b8dd29a443c40d55",
      "max": 1150585339,
      "min": 0,
      "orientation": "horizontal",
      "style": "IPY_MODEL_92134079d2794f52846d19c9eb4e39d1",
      "value": 1150585339
     }
    },
    "5c5e4bbe94d841ac9e537da3f55e508d": {
     "model_module": "@jupyter-widgets/controls",
     "model_module_version": "1.5.0",
     "model_name": "DescriptionStyleModel",
     "state": {
      "_model_module": "@jupyter-widgets/controls",
      "_model_module_version": "1.5.0",
      "_model_name": "DescriptionStyleModel",
      "_view_count": null,
      "_view_module": "@jupyter-widgets/base",
      "_view_module_version": "1.2.0",
      "_view_name": "StyleView",
      "description_width": ""
     }
    },
    "5ece7367431b43a9af13a4be573394e3": {
     "model_module": "@jupyter-widgets/base",
     "model_module_version": "1.2.0",
     "model_name": "LayoutModel",
     "state": {
      "_model_module": "@jupyter-widgets/base",
      "_model_module_version": "1.2.0",
      "_model_name": "LayoutModel",
      "_view_count": null,
      "_view_module": "@jupyter-widgets/base",
      "_view_module_version": "1.2.0",
      "_view_name": "LayoutView",
      "align_content": null,
      "align_items": null,
      "align_self": null,
      "border": null,
      "bottom": null,
      "display": null,
      "flex": null,
      "flex_flow": null,
      "grid_area": null,
      "grid_auto_columns": null,
      "grid_auto_flow": null,
      "grid_auto_rows": null,
      "grid_column": null,
      "grid_gap": null,
      "grid_row": null,
      "grid_template_areas": null,
      "grid_template_columns": null,
      "grid_template_rows": null,
      "height": null,
      "justify_content": null,
      "justify_items": null,
      "left": null,
      "margin": null,
      "max_height": null,
      "max_width": null,
      "min_height": null,
      "min_width": null,
      "object_fit": null,
      "object_position": null,
      "order": null,
      "overflow": null,
      "overflow_x": null,
      "overflow_y": null,
      "padding": null,
      "right": null,
      "top": null,
      "visibility": null,
      "width": null
     }
    },
    "61939957aedf4c05af0c8f98c59030cf": {
     "model_module": "@jupyter-widgets/controls",
     "model_module_version": "1.5.0",
     "model_name": "ProgressStyleModel",
     "state": {
      "_model_module": "@jupyter-widgets/controls",
      "_model_module_version": "1.5.0",
      "_model_name": "ProgressStyleModel",
      "_view_count": null,
      "_view_module": "@jupyter-widgets/base",
      "_view_module_version": "1.2.0",
      "_view_name": "StyleView",
      "bar_color": null,
      "description_width": ""
     }
    },
    "62f6f062ba284995ac8a2fce0c7b052a": {
     "model_module": "@jupyter-widgets/base",
     "model_module_version": "1.2.0",
     "model_name": "LayoutModel",
     "state": {
      "_model_module": "@jupyter-widgets/base",
      "_model_module_version": "1.2.0",
      "_model_name": "LayoutModel",
      "_view_count": null,
      "_view_module": "@jupyter-widgets/base",
      "_view_module_version": "1.2.0",
      "_view_name": "LayoutView",
      "align_content": null,
      "align_items": null,
      "align_self": null,
      "border": null,
      "bottom": null,
      "display": null,
      "flex": null,
      "flex_flow": null,
      "grid_area": null,
      "grid_auto_columns": null,
      "grid_auto_flow": null,
      "grid_auto_rows": null,
      "grid_column": null,
      "grid_gap": null,
      "grid_row": null,
      "grid_template_areas": null,
      "grid_template_columns": null,
      "grid_template_rows": null,
      "height": null,
      "justify_content": null,
      "justify_items": null,
      "left": null,
      "margin": null,
      "max_height": null,
      "max_width": null,
      "min_height": null,
      "min_width": null,
      "object_fit": null,
      "object_position": null,
      "order": null,
      "overflow": null,
      "overflow_x": null,
      "overflow_y": null,
      "padding": null,
      "right": null,
      "top": null,
      "visibility": null,
      "width": null
     }
    },
    "6524aecfa6654fa5b85d5a5b7da65382": {
     "model_module": "@jupyter-widgets/controls",
     "model_module_version": "1.5.0",
     "model_name": "DescriptionStyleModel",
     "state": {
      "_model_module": "@jupyter-widgets/controls",
      "_model_module_version": "1.5.0",
      "_model_name": "DescriptionStyleModel",
      "_view_count": null,
      "_view_module": "@jupyter-widgets/base",
      "_view_module_version": "1.2.0",
      "_view_name": "StyleView",
      "description_width": ""
     }
    },
    "6a58b3fa2c3a4e9cb265bd45bff1518e": {
     "model_module": "@jupyter-widgets/controls",
     "model_module_version": "1.5.0",
     "model_name": "HTMLModel",
     "state": {
      "_dom_classes": [],
      "_model_module": "@jupyter-widgets/controls",
      "_model_module_version": "1.5.0",
      "_model_name": "HTMLModel",
      "_view_count": null,
      "_view_module": "@jupyter-widgets/controls",
      "_view_module_version": "1.5.0",
      "_view_name": "HTMLView",
      "description": "",
      "description_tooltip": null,
      "layout": "IPY_MODEL_d201940c06c346e58272225646b1a5f4",
      "placeholder": "​",
      "style": "IPY_MODEL_894bb56860e14d589a72bf503652f75c",
      "value": " 29515/29515 [00:00&lt;00:00, 141554.93it/s]"
     }
    },
    "6d61c6ab44524cd19a1fdda4fcf9458d": {
     "model_module": "@jupyter-widgets/base",
     "model_module_version": "1.2.0",
     "model_name": "LayoutModel",
     "state": {
      "_model_module": "@jupyter-widgets/base",
      "_model_module_version": "1.2.0",
      "_model_name": "LayoutModel",
      "_view_count": null,
      "_view_module": "@jupyter-widgets/base",
      "_view_module_version": "1.2.0",
      "_view_name": "LayoutView",
      "align_content": null,
      "align_items": null,
      "align_self": null,
      "border": null,
      "bottom": null,
      "display": null,
      "flex": null,
      "flex_flow": null,
      "grid_area": null,
      "grid_auto_columns": null,
      "grid_auto_flow": null,
      "grid_auto_rows": null,
      "grid_column": null,
      "grid_gap": null,
      "grid_row": null,
      "grid_template_areas": null,
      "grid_template_columns": null,
      "grid_template_rows": null,
      "height": null,
      "justify_content": null,
      "justify_items": null,
      "left": null,
      "margin": null,
      "max_height": null,
      "max_width": null,
      "min_height": null,
      "min_width": null,
      "object_fit": null,
      "object_position": null,
      "order": null,
      "overflow": null,
      "overflow_x": null,
      "overflow_y": null,
      "padding": null,
      "right": null,
      "top": null,
      "visibility": null,
      "width": null
     }
    },
    "76b4e55d26ff41d49e7b0a2768b98748": {
     "model_module": "@jupyter-widgets/controls",
     "model_module_version": "1.5.0",
     "model_name": "FloatProgressModel",
     "state": {
      "_dom_classes": [],
      "_model_module": "@jupyter-widgets/controls",
      "_model_module_version": "1.5.0",
      "_model_name": "FloatProgressModel",
      "_view_count": null,
      "_view_module": "@jupyter-widgets/controls",
      "_view_module_version": "1.5.0",
      "_view_name": "ProgressView",
      "bar_style": "success",
      "description": "",
      "description_tooltip": null,
      "layout": "IPY_MODEL_c06f72e972f349b48d84b335467091d6",
      "max": 4422102,
      "min": 0,
      "orientation": "horizontal",
      "style": "IPY_MODEL_b0cc35221cf94946972f5d68dab224be",
      "value": 4422102
     }
    },
    "77617d300a8f47da9275b29edc3f6973": {
     "model_module": "@jupyter-widgets/base",
     "model_module_version": "1.2.0",
     "model_name": "LayoutModel",
     "state": {
      "_model_module": "@jupyter-widgets/base",
      "_model_module_version": "1.2.0",
      "_model_name": "LayoutModel",
      "_view_count": null,
      "_view_module": "@jupyter-widgets/base",
      "_view_module_version": "1.2.0",
      "_view_name": "LayoutView",
      "align_content": null,
      "align_items": null,
      "align_self": null,
      "border": null,
      "bottom": null,
      "display": null,
      "flex": null,
      "flex_flow": null,
      "grid_area": null,
      "grid_auto_columns": null,
      "grid_auto_flow": null,
      "grid_auto_rows": null,
      "grid_column": null,
      "grid_gap": null,
      "grid_row": null,
      "grid_template_areas": null,
      "grid_template_columns": null,
      "grid_template_rows": null,
      "height": null,
      "justify_content": null,
      "justify_items": null,
      "left": null,
      "margin": null,
      "max_height": null,
      "max_width": null,
      "min_height": null,
      "min_width": null,
      "object_fit": null,
      "object_position": null,
      "order": null,
      "overflow": null,
      "overflow_x": null,
      "overflow_y": null,
      "padding": null,
      "right": null,
      "top": null,
      "visibility": null,
      "width": null
     }
    },
    "7921bd68cfc543459c4341c560b0963e": {
     "model_module": "@jupyter-widgets/controls",
     "model_module_version": "1.5.0",
     "model_name": "ProgressStyleModel",
     "state": {
      "_model_module": "@jupyter-widgets/controls",
      "_model_module_version": "1.5.0",
      "_model_name": "ProgressStyleModel",
      "_view_count": null,
      "_view_module": "@jupyter-widgets/base",
      "_view_module_version": "1.2.0",
      "_view_name": "StyleView",
      "bar_color": null,
      "description_width": ""
     }
    },
    "7d705430de8442b286bd7260b4f279bd": {
     "model_module": "@jupyter-widgets/controls",
     "model_module_version": "1.5.0",
     "model_name": "DescriptionStyleModel",
     "state": {
      "_model_module": "@jupyter-widgets/controls",
      "_model_module_version": "1.5.0",
      "_model_name": "DescriptionStyleModel",
      "_view_count": null,
      "_view_module": "@jupyter-widgets/base",
      "_view_module_version": "1.2.0",
      "_view_name": "StyleView",
      "description_width": ""
     }
    },
    "7df72634ef024f1aba279f236be003d7": {
     "model_module": "@jupyter-widgets/base",
     "model_module_version": "1.2.0",
     "model_name": "LayoutModel",
     "state": {
      "_model_module": "@jupyter-widgets/base",
      "_model_module_version": "1.2.0",
      "_model_name": "LayoutModel",
      "_view_count": null,
      "_view_module": "@jupyter-widgets/base",
      "_view_module_version": "1.2.0",
      "_view_name": "LayoutView",
      "align_content": null,
      "align_items": null,
      "align_self": null,
      "border": null,
      "bottom": null,
      "display": null,
      "flex": null,
      "flex_flow": null,
      "grid_area": null,
      "grid_auto_columns": null,
      "grid_auto_flow": null,
      "grid_auto_rows": null,
      "grid_column": null,
      "grid_gap": null,
      "grid_row": null,
      "grid_template_areas": null,
      "grid_template_columns": null,
      "grid_template_rows": null,
      "height": null,
      "justify_content": null,
      "justify_items": null,
      "left": null,
      "margin": null,
      "max_height": null,
      "max_width": null,
      "min_height": null,
      "min_width": null,
      "object_fit": null,
      "object_position": null,
      "order": null,
      "overflow": null,
      "overflow_x": null,
      "overflow_y": null,
      "padding": null,
      "right": null,
      "top": null,
      "visibility": null,
      "width": null
     }
    },
    "7e73cc3d713d4bf1a5e4c0c2e4c83208": {
     "model_module": "@jupyter-widgets/controls",
     "model_module_version": "1.5.0",
     "model_name": "HBoxModel",
     "state": {
      "_dom_classes": [],
      "_model_module": "@jupyter-widgets/controls",
      "_model_module_version": "1.5.0",
      "_model_name": "HBoxModel",
      "_view_count": null,
      "_view_module": "@jupyter-widgets/controls",
      "_view_module_version": "1.5.0",
      "_view_name": "HBoxView",
      "box_style": "",
      "children": [
       "IPY_MODEL_32e2c6a49b2c4c15895923391a1b099b",
       "IPY_MODEL_54ec965329c1426e9806fb92e90943db",
       "IPY_MODEL_4a504bed7a4342c8aacfc1bfc3835f75"
      ],
      "layout": "IPY_MODEL_5ece7367431b43a9af13a4be573394e3"
     }
    },
    "7f6249b57ebb4629b975202f075842b8": {
     "model_module": "@jupyter-widgets/controls",
     "model_module_version": "1.5.0",
     "model_name": "HBoxModel",
     "state": {
      "_dom_classes": [],
      "_model_module": "@jupyter-widgets/controls",
      "_model_module_version": "1.5.0",
      "_model_name": "HBoxModel",
      "_view_count": null,
      "_view_module": "@jupyter-widgets/controls",
      "_view_module_version": "1.5.0",
      "_view_name": "HBoxView",
      "box_style": "",
      "children": [
       "IPY_MODEL_51e75ccb86ce42cc8a90bc6be1b34a57",
       "IPY_MODEL_3c462de009ea4347b2a3adc46391ee61",
       "IPY_MODEL_ce107c5356ec43faa6ab1db0083a215e"
      ],
      "layout": "IPY_MODEL_7df72634ef024f1aba279f236be003d7"
     }
    },
    "7f70c048050c49928cbf2aebcdbb5f1b": {
     "model_module": "@jupyter-widgets/controls",
     "model_module_version": "1.5.0",
     "model_name": "HTMLModel",
     "state": {
      "_dom_classes": [],
      "_model_module": "@jupyter-widgets/controls",
      "_model_module_version": "1.5.0",
      "_model_name": "HTMLModel",
      "_view_count": null,
      "_view_module": "@jupyter-widgets/controls",
      "_view_module_version": "1.5.0",
      "_view_name": "HTMLView",
      "description": "",
      "description_tooltip": null,
      "layout": "IPY_MODEL_0493aa849ad74ec484d321800a27e6b4",
      "placeholder": "​",
      "style": "IPY_MODEL_91597be3e60f48d297e8ce18e3d4a017",
      "value": "100%"
     }
    },
    "80ab0011d84a438daeacb05a198b3ea2": {
     "model_module": "@jupyter-widgets/controls",
     "model_module_version": "1.5.0",
     "model_name": "DescriptionStyleModel",
     "state": {
      "_model_module": "@jupyter-widgets/controls",
      "_model_module_version": "1.5.0",
      "_model_name": "DescriptionStyleModel",
      "_view_count": null,
      "_view_module": "@jupyter-widgets/base",
      "_view_module_version": "1.2.0",
      "_view_name": "StyleView",
      "description_width": ""
     }
    },
    "839a6ee863ef4dae83212d9ddc6f5cd1": {
     "model_module": "@jupyter-widgets/controls",
     "model_module_version": "1.5.0",
     "model_name": "DescriptionStyleModel",
     "state": {
      "_model_module": "@jupyter-widgets/controls",
      "_model_module_version": "1.5.0",
      "_model_name": "DescriptionStyleModel",
      "_view_count": null,
      "_view_module": "@jupyter-widgets/base",
      "_view_module_version": "1.2.0",
      "_view_name": "StyleView",
      "description_width": ""
     }
    },
    "855b1e9d49a64ed8a71a04be7a1710a2": {
     "model_module": "@jupyter-widgets/base",
     "model_module_version": "1.2.0",
     "model_name": "LayoutModel",
     "state": {
      "_model_module": "@jupyter-widgets/base",
      "_model_module_version": "1.2.0",
      "_model_name": "LayoutModel",
      "_view_count": null,
      "_view_module": "@jupyter-widgets/base",
      "_view_module_version": "1.2.0",
      "_view_name": "LayoutView",
      "align_content": null,
      "align_items": null,
      "align_self": null,
      "border": null,
      "bottom": null,
      "display": null,
      "flex": null,
      "flex_flow": null,
      "grid_area": null,
      "grid_auto_columns": null,
      "grid_auto_flow": null,
      "grid_auto_rows": null,
      "grid_column": null,
      "grid_gap": null,
      "grid_row": null,
      "grid_template_areas": null,
      "grid_template_columns": null,
      "grid_template_rows": null,
      "height": null,
      "justify_content": null,
      "justify_items": null,
      "left": null,
      "margin": null,
      "max_height": null,
      "max_width": null,
      "min_height": null,
      "min_width": null,
      "object_fit": null,
      "object_position": null,
      "order": null,
      "overflow": null,
      "overflow_x": null,
      "overflow_y": null,
      "padding": null,
      "right": null,
      "top": null,
      "visibility": null,
      "width": null
     }
    },
    "894bb56860e14d589a72bf503652f75c": {
     "model_module": "@jupyter-widgets/controls",
     "model_module_version": "1.5.0",
     "model_name": "DescriptionStyleModel",
     "state": {
      "_model_module": "@jupyter-widgets/controls",
      "_model_module_version": "1.5.0",
      "_model_name": "DescriptionStyleModel",
      "_view_count": null,
      "_view_module": "@jupyter-widgets/base",
      "_view_module_version": "1.2.0",
      "_view_name": "StyleView",
      "description_width": ""
     }
    },
    "89d2e7212d274a8c895f3d53e284e912": {
     "model_module": "@jupyter-widgets/controls",
     "model_module_version": "1.5.0",
     "model_name": "FloatProgressModel",
     "state": {
      "_dom_classes": [],
      "_model_module": "@jupyter-widgets/controls",
      "_model_module_version": "1.5.0",
      "_model_name": "FloatProgressModel",
      "_view_count": null,
      "_view_module": "@jupyter-widgets/controls",
      "_view_module_version": "1.5.0",
      "_view_name": "ProgressView",
      "bar_style": "success",
      "description": "",
      "description_tooltip": null,
      "layout": "IPY_MODEL_ed8d2532dd6543a4abc4f4c01a6263d4",
      "max": 26421880,
      "min": 0,
      "orientation": "horizontal",
      "style": "IPY_MODEL_61939957aedf4c05af0c8f98c59030cf",
      "value": 26421880
     }
    },
    "8c008c3e66674b3699ad9200ad33329d": {
     "model_module": "@jupyter-widgets/controls",
     "model_module_version": "1.5.0",
     "model_name": "HTMLModel",
     "state": {
      "_dom_classes": [],
      "_model_module": "@jupyter-widgets/controls",
      "_model_module_version": "1.5.0",
      "_model_name": "HTMLModel",
      "_view_count": null,
      "_view_module": "@jupyter-widgets/controls",
      "_view_module_version": "1.5.0",
      "_view_name": "HTMLView",
      "description": "",
      "description_tooltip": null,
      "layout": "IPY_MODEL_dbab93b74b954cef8c20e0bc4e27fef8",
      "placeholder": "​",
      "style": "IPY_MODEL_aa02c107d9144af5827b635a6c0e59b5",
      "value": "100%"
     }
    },
    "91597be3e60f48d297e8ce18e3d4a017": {
     "model_module": "@jupyter-widgets/controls",
     "model_module_version": "1.5.0",
     "model_name": "DescriptionStyleModel",
     "state": {
      "_model_module": "@jupyter-widgets/controls",
      "_model_module_version": "1.5.0",
      "_model_name": "DescriptionStyleModel",
      "_view_count": null,
      "_view_module": "@jupyter-widgets/base",
      "_view_module_version": "1.2.0",
      "_view_name": "StyleView",
      "description_width": ""
     }
    },
    "92134079d2794f52846d19c9eb4e39d1": {
     "model_module": "@jupyter-widgets/controls",
     "model_module_version": "1.5.0",
     "model_name": "ProgressStyleModel",
     "state": {
      "_model_module": "@jupyter-widgets/controls",
      "_model_module_version": "1.5.0",
      "_model_name": "ProgressStyleModel",
      "_view_count": null,
      "_view_module": "@jupyter-widgets/base",
      "_view_module_version": "1.2.0",
      "_view_name": "StyleView",
      "bar_color": null,
      "description_width": ""
     }
    },
    "94e394b510d64a3d8e3a99e1251980e1": {
     "model_module": "@jupyter-widgets/base",
     "model_module_version": "1.2.0",
     "model_name": "LayoutModel",
     "state": {
      "_model_module": "@jupyter-widgets/base",
      "_model_module_version": "1.2.0",
      "_model_name": "LayoutModel",
      "_view_count": null,
      "_view_module": "@jupyter-widgets/base",
      "_view_module_version": "1.2.0",
      "_view_name": "LayoutView",
      "align_content": null,
      "align_items": null,
      "align_self": null,
      "border": null,
      "bottom": null,
      "display": null,
      "flex": null,
      "flex_flow": null,
      "grid_area": null,
      "grid_auto_columns": null,
      "grid_auto_flow": null,
      "grid_auto_rows": null,
      "grid_column": null,
      "grid_gap": null,
      "grid_row": null,
      "grid_template_areas": null,
      "grid_template_columns": null,
      "grid_template_rows": null,
      "height": null,
      "justify_content": null,
      "justify_items": null,
      "left": null,
      "margin": null,
      "max_height": null,
      "max_width": null,
      "min_height": null,
      "min_width": null,
      "object_fit": null,
      "object_position": null,
      "order": null,
      "overflow": null,
      "overflow_x": null,
      "overflow_y": null,
      "padding": null,
      "right": null,
      "top": null,
      "visibility": null,
      "width": null
     }
    },
    "9c9b436c99b54a3dbe51cb22f3434849": {
     "model_module": "@jupyter-widgets/base",
     "model_module_version": "1.2.0",
     "model_name": "LayoutModel",
     "state": {
      "_model_module": "@jupyter-widgets/base",
      "_model_module_version": "1.2.0",
      "_model_name": "LayoutModel",
      "_view_count": null,
      "_view_module": "@jupyter-widgets/base",
      "_view_module_version": "1.2.0",
      "_view_name": "LayoutView",
      "align_content": null,
      "align_items": null,
      "align_self": null,
      "border": null,
      "bottom": null,
      "display": null,
      "flex": null,
      "flex_flow": null,
      "grid_area": null,
      "grid_auto_columns": null,
      "grid_auto_flow": null,
      "grid_auto_rows": null,
      "grid_column": null,
      "grid_gap": null,
      "grid_row": null,
      "grid_template_areas": null,
      "grid_template_columns": null,
      "grid_template_rows": null,
      "height": null,
      "justify_content": null,
      "justify_items": null,
      "left": null,
      "margin": null,
      "max_height": null,
      "max_width": null,
      "min_height": null,
      "min_width": null,
      "object_fit": null,
      "object_position": null,
      "order": null,
      "overflow": null,
      "overflow_x": null,
      "overflow_y": null,
      "padding": null,
      "right": null,
      "top": null,
      "visibility": null,
      "width": null
     }
    },
    "a69cfb0c7b6b43d78c19c38395d2b368": {
     "model_module": "@jupyter-widgets/base",
     "model_module_version": "1.2.0",
     "model_name": "LayoutModel",
     "state": {
      "_model_module": "@jupyter-widgets/base",
      "_model_module_version": "1.2.0",
      "_model_name": "LayoutModel",
      "_view_count": null,
      "_view_module": "@jupyter-widgets/base",
      "_view_module_version": "1.2.0",
      "_view_name": "LayoutView",
      "align_content": null,
      "align_items": null,
      "align_self": null,
      "border": null,
      "bottom": null,
      "display": null,
      "flex": null,
      "flex_flow": null,
      "grid_area": null,
      "grid_auto_columns": null,
      "grid_auto_flow": null,
      "grid_auto_rows": null,
      "grid_column": null,
      "grid_gap": null,
      "grid_row": null,
      "grid_template_areas": null,
      "grid_template_columns": null,
      "grid_template_rows": null,
      "height": null,
      "justify_content": null,
      "justify_items": null,
      "left": null,
      "margin": null,
      "max_height": null,
      "max_width": null,
      "min_height": null,
      "min_width": null,
      "object_fit": null,
      "object_position": null,
      "order": null,
      "overflow": null,
      "overflow_x": null,
      "overflow_y": null,
      "padding": null,
      "right": null,
      "top": null,
      "visibility": null,
      "width": null
     }
    },
    "aa02c107d9144af5827b635a6c0e59b5": {
     "model_module": "@jupyter-widgets/controls",
     "model_module_version": "1.5.0",
     "model_name": "DescriptionStyleModel",
     "state": {
      "_model_module": "@jupyter-widgets/controls",
      "_model_module_version": "1.5.0",
      "_model_name": "DescriptionStyleModel",
      "_view_count": null,
      "_view_module": "@jupyter-widgets/base",
      "_view_module_version": "1.2.0",
      "_view_name": "StyleView",
      "description_width": ""
     }
    },
    "aa2a96e6e6534c21b07ae70e1a2d76e1": {
     "model_module": "@jupyter-widgets/controls",
     "model_module_version": "1.5.0",
     "model_name": "HBoxModel",
     "state": {
      "_dom_classes": [],
      "_model_module": "@jupyter-widgets/controls",
      "_model_module_version": "1.5.0",
      "_model_name": "HBoxModel",
      "_view_count": null,
      "_view_module": "@jupyter-widgets/controls",
      "_view_module_version": "1.5.0",
      "_view_name": "HBoxView",
      "box_style": "",
      "children": [
       "IPY_MODEL_d012ca0c663a4a5cb8ae97ec91cfe00d",
       "IPY_MODEL_89d2e7212d274a8c895f3d53e284e912",
       "IPY_MODEL_033dbebe074a4353a8811a53079489cd"
      ],
      "layout": "IPY_MODEL_2615f007fa1143618b645479588fd74a"
     }
    },
    "b0cc35221cf94946972f5d68dab224be": {
     "model_module": "@jupyter-widgets/controls",
     "model_module_version": "1.5.0",
     "model_name": "ProgressStyleModel",
     "state": {
      "_model_module": "@jupyter-widgets/controls",
      "_model_module_version": "1.5.0",
      "_model_name": "ProgressStyleModel",
      "_view_count": null,
      "_view_module": "@jupyter-widgets/base",
      "_view_module_version": "1.2.0",
      "_view_name": "StyleView",
      "bar_color": null,
      "description_width": ""
     }
    },
    "b12588cf4ede4fbc9a86e8539e8df509": {
     "model_module": "@jupyter-widgets/base",
     "model_module_version": "1.2.0",
     "model_name": "LayoutModel",
     "state": {
      "_model_module": "@jupyter-widgets/base",
      "_model_module_version": "1.2.0",
      "_model_name": "LayoutModel",
      "_view_count": null,
      "_view_module": "@jupyter-widgets/base",
      "_view_module_version": "1.2.0",
      "_view_name": "LayoutView",
      "align_content": null,
      "align_items": null,
      "align_self": null,
      "border": null,
      "bottom": null,
      "display": null,
      "flex": null,
      "flex_flow": null,
      "grid_area": null,
      "grid_auto_columns": null,
      "grid_auto_flow": null,
      "grid_auto_rows": null,
      "grid_column": null,
      "grid_gap": null,
      "grid_row": null,
      "grid_template_areas": null,
      "grid_template_columns": null,
      "grid_template_rows": null,
      "height": null,
      "justify_content": null,
      "justify_items": null,
      "left": null,
      "margin": null,
      "max_height": null,
      "max_width": null,
      "min_height": null,
      "min_width": null,
      "object_fit": null,
      "object_position": null,
      "order": null,
      "overflow": null,
      "overflow_x": null,
      "overflow_y": null,
      "padding": null,
      "right": null,
      "top": null,
      "visibility": null,
      "width": null
     }
    },
    "b997fdbb57c6466dbaec41916f214214": {
     "model_module": "@jupyter-widgets/controls",
     "model_module_version": "1.5.0",
     "model_name": "SliderStyleModel",
     "state": {
      "_model_module": "@jupyter-widgets/controls",
      "_model_module_version": "1.5.0",
      "_model_name": "SliderStyleModel",
      "_view_count": null,
      "_view_module": "@jupyter-widgets/base",
      "_view_module_version": "1.2.0",
      "_view_name": "StyleView",
      "description_width": "",
      "handle_color": null
     }
    },
    "bc008b8d7cb441fc85e0b81dbe55a283": {
     "model_module": "@jupyter-widgets/base",
     "model_module_version": "1.2.0",
     "model_name": "LayoutModel",
     "state": {
      "_model_module": "@jupyter-widgets/base",
      "_model_module_version": "1.2.0",
      "_model_name": "LayoutModel",
      "_view_count": null,
      "_view_module": "@jupyter-widgets/base",
      "_view_module_version": "1.2.0",
      "_view_name": "LayoutView",
      "align_content": null,
      "align_items": null,
      "align_self": null,
      "border": null,
      "bottom": null,
      "display": null,
      "flex": null,
      "flex_flow": null,
      "grid_area": null,
      "grid_auto_columns": null,
      "grid_auto_flow": null,
      "grid_auto_rows": null,
      "grid_column": null,
      "grid_gap": null,
      "grid_row": null,
      "grid_template_areas": null,
      "grid_template_columns": null,
      "grid_template_rows": null,
      "height": null,
      "justify_content": null,
      "justify_items": null,
      "left": null,
      "margin": null,
      "max_height": null,
      "max_width": null,
      "min_height": null,
      "min_width": null,
      "object_fit": null,
      "object_position": null,
      "order": null,
      "overflow": null,
      "overflow_x": null,
      "overflow_y": null,
      "padding": null,
      "right": null,
      "top": null,
      "visibility": null,
      "width": null
     }
    },
    "bcfdf607f73b41288940059f0a6ab63e": {
     "model_module": "@jupyter-widgets/controls",
     "model_module_version": "1.5.0",
     "model_name": "HBoxModel",
     "state": {
      "_dom_classes": [],
      "_model_module": "@jupyter-widgets/controls",
      "_model_module_version": "1.5.0",
      "_model_name": "HBoxModel",
      "_view_count": null,
      "_view_module": "@jupyter-widgets/controls",
      "_view_module_version": "1.5.0",
      "_view_name": "HBoxView",
      "box_style": "",
      "children": [
       "IPY_MODEL_3105d2b89bf946fe90cfd34c29046295",
       "IPY_MODEL_c6a74e12030a4c80bb565e078a019e5b",
       "IPY_MODEL_1b7d18d07bab4aabb947a2b619a5758b"
      ],
      "layout": "IPY_MODEL_d6016741808a45b2af04ec657226499a"
     }
    },
    "be809680196b46d592d7a1e66ad5807c": {
     "model_module": "@jupyter-widgets/controls",
     "model_module_version": "1.5.0",
     "model_name": "IntSliderModel",
     "state": {
      "_dom_classes": [],
      "_model_module": "@jupyter-widgets/controls",
      "_model_module_version": "1.5.0",
      "_model_name": "IntSliderModel",
      "_view_count": null,
      "_view_module": "@jupyter-widgets/controls",
      "_view_module_version": "1.5.0",
      "_view_name": "IntSliderView",
      "continuous_update": true,
      "description": "k:",
      "description_tooltip": null,
      "disabled": false,
      "layout": "IPY_MODEL_b12588cf4ede4fbc9a86e8539e8df509",
      "max": 20000,
      "min": 100,
      "orientation": "horizontal",
      "readout": true,
      "readout_format": "d",
      "step": 1,
      "style": "IPY_MODEL_b997fdbb57c6466dbaec41916f214214",
      "value": 2000
     }
    },
    "c06f72e972f349b48d84b335467091d6": {
     "model_module": "@jupyter-widgets/base",
     "model_module_version": "1.2.0",
     "model_name": "LayoutModel",
     "state": {
      "_model_module": "@jupyter-widgets/base",
      "_model_module_version": "1.2.0",
      "_model_name": "LayoutModel",
      "_view_count": null,
      "_view_module": "@jupyter-widgets/base",
      "_view_module_version": "1.2.0",
      "_view_name": "LayoutView",
      "align_content": null,
      "align_items": null,
      "align_self": null,
      "border": null,
      "bottom": null,
      "display": null,
      "flex": null,
      "flex_flow": null,
      "grid_area": null,
      "grid_auto_columns": null,
      "grid_auto_flow": null,
      "grid_auto_rows": null,
      "grid_column": null,
      "grid_gap": null,
      "grid_row": null,
      "grid_template_areas": null,
      "grid_template_columns": null,
      "grid_template_rows": null,
      "height": null,
      "justify_content": null,
      "justify_items": null,
      "left": null,
      "margin": null,
      "max_height": null,
      "max_width": null,
      "min_height": null,
      "min_width": null,
      "object_fit": null,
      "object_position": null,
      "order": null,
      "overflow": null,
      "overflow_x": null,
      "overflow_y": null,
      "padding": null,
      "right": null,
      "top": null,
      "visibility": null,
      "width": null
     }
    },
    "c6320845a5a44fbcb4162fabd509f17d": {
     "model_module": "@jupyter-widgets/controls",
     "model_module_version": "1.5.0",
     "model_name": "BoundedIntTextModel",
     "state": {
      "_dom_classes": [],
      "_model_module": "@jupyter-widgets/controls",
      "_model_module_version": "1.5.0",
      "_model_name": "BoundedIntTextModel",
      "_view_count": null,
      "_view_module": "@jupyter-widgets/controls",
      "_view_module_version": "1.5.0",
      "_view_name": "IntTextView",
      "continuous_update": false,
      "description": "Index:",
      "description_tooltip": null,
      "disabled": false,
      "layout": "IPY_MODEL_62f6f062ba284995ac8a2fce0c7b052a",
      "max": 999,
      "min": 0,
      "step": 1,
      "style": "IPY_MODEL_80ab0011d84a438daeacb05a198b3ea2",
      "value": 0
     }
    },
    "c6a74e12030a4c80bb565e078a019e5b": {
     "model_module": "@jupyter-widgets/controls",
     "model_module_version": "1.5.0",
     "model_name": "FloatProgressModel",
     "state": {
      "_dom_classes": [],
      "_model_module": "@jupyter-widgets/controls",
      "_model_module_version": "1.5.0",
      "_model_name": "FloatProgressModel",
      "_view_count": null,
      "_view_module": "@jupyter-widgets/controls",
      "_view_module_version": "1.5.0",
      "_view_name": "ProgressView",
      "bar_style": "success",
      "description": "",
      "description_tooltip": null,
      "layout": "IPY_MODEL_855b1e9d49a64ed8a71a04be7a1710a2",
      "max": 5148,
      "min": 0,
      "orientation": "horizontal",
      "style": "IPY_MODEL_320a2c6070eb4d9fac14321801ecb4ff",
      "value": 5148
     }
    },
    "ce107c5356ec43faa6ab1db0083a215e": {
     "model_module": "@jupyter-widgets/controls",
     "model_module_version": "1.5.0",
     "model_name": "HTMLModel",
     "state": {
      "_dom_classes": [],
      "_model_module": "@jupyter-widgets/controls",
      "_model_module_version": "1.5.0",
      "_model_name": "HTMLModel",
      "_view_count": null,
      "_view_module": "@jupyter-widgets/controls",
      "_view_module_version": "1.5.0",
      "_view_name": "HTMLView",
      "description": "",
      "description_tooltip": null,
      "layout": "IPY_MODEL_94e394b510d64a3d8e3a99e1251980e1",
      "placeholder": "​",
      "style": "IPY_MODEL_7d705430de8442b286bd7260b4f279bd",
      "value": " 49.7M/49.7M [00:00&lt;00:00, 229MB/s]"
     }
    },
    "d012ca0c663a4a5cb8ae97ec91cfe00d": {
     "model_module": "@jupyter-widgets/controls",
     "model_module_version": "1.5.0",
     "model_name": "HTMLModel",
     "state": {
      "_dom_classes": [],
      "_model_module": "@jupyter-widgets/controls",
      "_model_module_version": "1.5.0",
      "_model_name": "HTMLModel",
      "_view_count": null,
      "_view_module": "@jupyter-widgets/controls",
      "_view_module_version": "1.5.0",
      "_view_name": "HTMLView",
      "description": "",
      "description_tooltip": null,
      "layout": "IPY_MODEL_a69cfb0c7b6b43d78c19c38395d2b368",
      "placeholder": "​",
      "style": "IPY_MODEL_f65333474c574f399cdaab796d9efd07",
      "value": "100%"
     }
    },
    "d201940c06c346e58272225646b1a5f4": {
     "model_module": "@jupyter-widgets/base",
     "model_module_version": "1.2.0",
     "model_name": "LayoutModel",
     "state": {
      "_model_module": "@jupyter-widgets/base",
      "_model_module_version": "1.2.0",
      "_model_name": "LayoutModel",
      "_view_count": null,
      "_view_module": "@jupyter-widgets/base",
      "_view_module_version": "1.2.0",
      "_view_name": "LayoutView",
      "align_content": null,
      "align_items": null,
      "align_self": null,
      "border": null,
      "bottom": null,
      "display": null,
      "flex": null,
      "flex_flow": null,
      "grid_area": null,
      "grid_auto_columns": null,
      "grid_auto_flow": null,
      "grid_auto_rows": null,
      "grid_column": null,
      "grid_gap": null,
      "grid_row": null,
      "grid_template_areas": null,
      "grid_template_columns": null,
      "grid_template_rows": null,
      "height": null,
      "justify_content": null,
      "justify_items": null,
      "left": null,
      "margin": null,
      "max_height": null,
      "max_width": null,
      "min_height": null,
      "min_width": null,
      "object_fit": null,
      "object_position": null,
      "order": null,
      "overflow": null,
      "overflow_x": null,
      "overflow_y": null,
      "padding": null,
      "right": null,
      "top": null,
      "visibility": null,
      "width": null
     }
    },
    "d6016741808a45b2af04ec657226499a": {
     "model_module": "@jupyter-widgets/base",
     "model_module_version": "1.2.0",
     "model_name": "LayoutModel",
     "state": {
      "_model_module": "@jupyter-widgets/base",
      "_model_module_version": "1.2.0",
      "_model_name": "LayoutModel",
      "_view_count": null,
      "_view_module": "@jupyter-widgets/base",
      "_view_module_version": "1.2.0",
      "_view_name": "LayoutView",
      "align_content": null,
      "align_items": null,
      "align_self": null,
      "border": null,
      "bottom": null,
      "display": null,
      "flex": null,
      "flex_flow": null,
      "grid_area": null,
      "grid_auto_columns": null,
      "grid_auto_flow": null,
      "grid_auto_rows": null,
      "grid_column": null,
      "grid_gap": null,
      "grid_row": null,
      "grid_template_areas": null,
      "grid_template_columns": null,
      "grid_template_rows": null,
      "height": null,
      "justify_content": null,
      "justify_items": null,
      "left": null,
      "margin": null,
      "max_height": null,
      "max_width": null,
      "min_height": null,
      "min_width": null,
      "object_fit": null,
      "object_position": null,
      "order": null,
      "overflow": null,
      "overflow_x": null,
      "overflow_y": null,
      "padding": null,
      "right": null,
      "top": null,
      "visibility": null,
      "width": null
     }
    },
    "d761eeeeef414b61800623bb503eb81e": {
     "model_module": "@jupyter-widgets/controls",
     "model_module_version": "1.5.0",
     "model_name": "VBoxModel",
     "state": {
      "_dom_classes": [
       "widget-interact"
      ],
      "_model_module": "@jupyter-widgets/controls",
      "_model_module_version": "1.5.0",
      "_model_name": "VBoxModel",
      "_view_count": null,
      "_view_module": "@jupyter-widgets/controls",
      "_view_module_version": "1.5.0",
      "_view_name": "VBoxView",
      "box_style": "",
      "children": [
       "IPY_MODEL_c6320845a5a44fbcb4162fabd509f17d",
       "IPY_MODEL_be809680196b46d592d7a1e66ad5807c",
       "IPY_MODEL_51166abadb4041f4b0c129da425e0ab9"
      ],
      "layout": "IPY_MODEL_9c9b436c99b54a3dbe51cb22f3434849"
     }
    },
    "dbab93b74b954cef8c20e0bc4e27fef8": {
     "model_module": "@jupyter-widgets/base",
     "model_module_version": "1.2.0",
     "model_name": "LayoutModel",
     "state": {
      "_model_module": "@jupyter-widgets/base",
      "_model_module_version": "1.2.0",
      "_model_name": "LayoutModel",
      "_view_count": null,
      "_view_module": "@jupyter-widgets/base",
      "_view_module_version": "1.2.0",
      "_view_name": "LayoutView",
      "align_content": null,
      "align_items": null,
      "align_self": null,
      "border": null,
      "bottom": null,
      "display": null,
      "flex": null,
      "flex_flow": null,
      "grid_area": null,
      "grid_auto_columns": null,
      "grid_auto_flow": null,
      "grid_auto_rows": null,
      "grid_column": null,
      "grid_gap": null,
      "grid_row": null,
      "grid_template_areas": null,
      "grid_template_columns": null,
      "grid_template_rows": null,
      "height": null,
      "justify_content": null,
      "justify_items": null,
      "left": null,
      "margin": null,
      "max_height": null,
      "max_width": null,
      "min_height": null,
      "min_width": null,
      "object_fit": null,
      "object_position": null,
      "order": null,
      "overflow": null,
      "overflow_x": null,
      "overflow_y": null,
      "padding": null,
      "right": null,
      "top": null,
      "visibility": null,
      "width": null
     }
    },
    "e192af2a38ac42d9982123e7f5af226b": {
     "model_module": "@jupyter-widgets/base",
     "model_module_version": "1.2.0",
     "model_name": "LayoutModel",
     "state": {
      "_model_module": "@jupyter-widgets/base",
      "_model_module_version": "1.2.0",
      "_model_name": "LayoutModel",
      "_view_count": null,
      "_view_module": "@jupyter-widgets/base",
      "_view_module_version": "1.2.0",
      "_view_name": "LayoutView",
      "align_content": null,
      "align_items": null,
      "align_self": null,
      "border": null,
      "bottom": null,
      "display": null,
      "flex": null,
      "flex_flow": null,
      "grid_area": null,
      "grid_auto_columns": null,
      "grid_auto_flow": null,
      "grid_auto_rows": null,
      "grid_column": null,
      "grid_gap": null,
      "grid_row": null,
      "grid_template_areas": null,
      "grid_template_columns": null,
      "grid_template_rows": null,
      "height": null,
      "justify_content": null,
      "justify_items": null,
      "left": null,
      "margin": null,
      "max_height": null,
      "max_width": null,
      "min_height": null,
      "min_width": null,
      "object_fit": null,
      "object_position": null,
      "order": null,
      "overflow": null,
      "overflow_x": null,
      "overflow_y": null,
      "padding": null,
      "right": null,
      "top": null,
      "visibility": null,
      "width": null
     }
    },
    "ed8d2532dd6543a4abc4f4c01a6263d4": {
     "model_module": "@jupyter-widgets/base",
     "model_module_version": "1.2.0",
     "model_name": "LayoutModel",
     "state": {
      "_model_module": "@jupyter-widgets/base",
      "_model_module_version": "1.2.0",
      "_model_name": "LayoutModel",
      "_view_count": null,
      "_view_module": "@jupyter-widgets/base",
      "_view_module_version": "1.2.0",
      "_view_name": "LayoutView",
      "align_content": null,
      "align_items": null,
      "align_self": null,
      "border": null,
      "bottom": null,
      "display": null,
      "flex": null,
      "flex_flow": null,
      "grid_area": null,
      "grid_auto_columns": null,
      "grid_auto_flow": null,
      "grid_auto_rows": null,
      "grid_column": null,
      "grid_gap": null,
      "grid_row": null,
      "grid_template_areas": null,
      "grid_template_columns": null,
      "grid_template_rows": null,
      "height": null,
      "justify_content": null,
      "justify_items": null,
      "left": null,
      "margin": null,
      "max_height": null,
      "max_width": null,
      "min_height": null,
      "min_width": null,
      "object_fit": null,
      "object_position": null,
      "order": null,
      "overflow": null,
      "overflow_x": null,
      "overflow_y": null,
      "padding": null,
      "right": null,
      "top": null,
      "visibility": null,
      "width": null
     }
    },
    "f65333474c574f399cdaab796d9efd07": {
     "model_module": "@jupyter-widgets/controls",
     "model_module_version": "1.5.0",
     "model_name": "DescriptionStyleModel",
     "state": {
      "_model_module": "@jupyter-widgets/controls",
      "_model_module_version": "1.5.0",
      "_model_name": "DescriptionStyleModel",
      "_view_count": null,
      "_view_module": "@jupyter-widgets/base",
      "_view_module_version": "1.2.0",
      "_view_name": "StyleView",
      "description_width": ""
     }
    },
    "f8f6c7bdfc30444d8ff8d805a5c255a8": {
     "model_module": "@jupyter-widgets/base",
     "model_module_version": "1.2.0",
     "model_name": "LayoutModel",
     "state": {
      "_model_module": "@jupyter-widgets/base",
      "_model_module_version": "1.2.0",
      "_model_name": "LayoutModel",
      "_view_count": null,
      "_view_module": "@jupyter-widgets/base",
      "_view_module_version": "1.2.0",
      "_view_name": "LayoutView",
      "align_content": null,
      "align_items": null,
      "align_self": null,
      "border": null,
      "bottom": null,
      "display": null,
      "flex": null,
      "flex_flow": null,
      "grid_area": null,
      "grid_auto_columns": null,
      "grid_auto_flow": null,
      "grid_auto_rows": null,
      "grid_column": null,
      "grid_gap": null,
      "grid_row": null,
      "grid_template_areas": null,
      "grid_template_columns": null,
      "grid_template_rows": null,
      "height": null,
      "justify_content": null,
      "justify_items": null,
      "left": null,
      "margin": null,
      "max_height": null,
      "max_width": null,
      "min_height": null,
      "min_width": null,
      "object_fit": null,
      "object_position": null,
      "order": null,
      "overflow": null,
      "overflow_x": null,
      "overflow_y": null,
      "padding": null,
      "right": null,
      "top": null,
      "visibility": null,
      "width": null
     }
    },
    "ff71a7d8ae444cb5b2ae56b56e600527": {
     "model_module": "@jupyter-widgets/controls",
     "model_module_version": "1.5.0",
     "model_name": "HTMLModel",
     "state": {
      "_dom_classes": [],
      "_model_module": "@jupyter-widgets/controls",
      "_model_module_version": "1.5.0",
      "_model_name": "HTMLModel",
      "_view_count": null,
      "_view_module": "@jupyter-widgets/controls",
      "_view_module_version": "1.5.0",
      "_view_name": "HTMLView",
      "description": "",
      "description_tooltip": null,
      "layout": "IPY_MODEL_1b7af3da37c845e881d5172ec2891e2d",
      "placeholder": "​",
      "style": "IPY_MODEL_354b2212dbb14e74b25ae7f5dc637115",
      "value": " 4422102/4422102 [00:01&lt;00:00, 4603512.89it/s]"
     }
    }
   }
  }
 },
 "nbformat": 4,
 "nbformat_minor": 1
}
